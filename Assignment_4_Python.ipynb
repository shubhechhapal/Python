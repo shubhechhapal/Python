{
 "cells": [
  {
   "cell_type": "code",
   "execution_count": 1,
   "id": "8e2e7248",
   "metadata": {},
   "outputs": [],
   "source": [
    "# 1. What exactly is []?\n",
    "\n",
    "#Ans. The notation [] represents an empty list in many programming languages. A list is a data structure that can store an\n",
    "#ordered collection of items. The square brackets ([]) are used to define an empty list or to access elements in a list by their\n",
    "# index.\n",
    "# empty_list = []\n"
   ]
  },
  {
   "cell_type": "code",
   "execution_count": 3,
   "id": "3247ab42",
   "metadata": {},
   "outputs": [],
   "source": [
    "# 2. In a list of values stored in a variable called spam, how would you assign the value \"hello\" as the third value?\n",
    "# (Assume [2, 4, 6, 8, 10] are in spam.) Let's pretend the spam includes the list ['a', 'b','c','d'] for the next three queries.\n",
    "\n",
    "# Ans. \n",
    "spam = ['a', 'b', 'c', 'd']\n",
    "spam[2] = 'hello'\n",
    "\n"
   ]
  },
  {
   "cell_type": "code",
   "execution_count": 4,
   "id": "65c1de65",
   "metadata": {},
   "outputs": [],
   "source": [
    "# 3. What is the value of spam[int(int('3' * 2) / 11)]?\n",
    "\n",
    "#Ans. int('3' * 2) evaluates to int('33'), which is 33.\n",
    "# int('33') / 11 evaluates to 33 / 11, which is 3.\n",
    "# int(3) evaluates to 3.\n",
    "# So, the expression spam[int(int('3' * 2) / 11)] is equivalent to spam[3]. In Python, list indices start from 0, so accessing\n",
    "# the element at index 3 in the list ['a', 'b', 'hello', 'd'] would give the value 'd'."
   ]
  },
  {
   "cell_type": "code",
   "execution_count": 5,
   "id": "fd16ccce",
   "metadata": {},
   "outputs": [],
   "source": [
    "# 4. What is the value of spam[-1]?\n",
    "\n",
    "# Ans. In Python, the index -1 is a special index that represents the last element in a list. So, spam[-1] will give you the\n",
    "# last element of the list spam.\n",
    "# Given the list ['a', 'b', 'hello', 'd'], the value of spam[-1] would be 'd'."
   ]
  },
  {
   "cell_type": "code",
   "execution_count": 7,
   "id": "41728051",
   "metadata": {},
   "outputs": [],
   "source": [
    "# 5. What is the value of spam[:2]?\n",
    "# Let's pretend bacon has the list [3.14, 'cat,'' 11, 'cat,' True] for the next three questions.\n",
    "\n",
    "# Ans. If bacon is a list with the elements [3.14, 'cat', 11, 'cat', True], and you're asking about the value of bacon[:2], it\n",
    "# means you want the elements from the beginning up to, but not including, the element at index 2.\n",
    "# So, for bacon[:2], the value would be [3.14, 'cat']. It includes elements at indices 0 and 1 from the list bacon.\n",
    "\n",
    "\n",
    "\n",
    "\n",
    "\n"
   ]
  },
  {
   "cell_type": "code",
   "execution_count": 8,
   "id": "86f91338",
   "metadata": {},
   "outputs": [],
   "source": [
    "# 6. What is the value of bacon.index('cat')?\n",
    "\n",
    "# Ans. The index method in Python returns the index of the first occurrence of a specified value in a list. If you apply bacon.\n",
    "# index('cat'), it will give you the index of the first occurrence of the string 'cat' in the list bacon.\n",
    "# For the list bacon = [3.14, 'cat', 11, 'cat', True], the value of bacon.index('cat') would be 1, as the first occurrence of\n",
    "#'cat' is at index 1."
   ]
  },
  {
   "cell_type": "code",
   "execution_count": 9,
   "id": "f65dcabc",
   "metadata": {},
   "outputs": [],
   "source": [
    "# 7. How does bacon.append(99) change the look of the list value in bacon?\n",
    "\n",
    "# Ans. The append method in Python is used to add a single element to the end of a list. So, if you execute bacon.append(99) on\n",
    "# the list bacon = [3.14, 'cat', 11, 'cat', True], it will add the element 99 to the end of the list.\n",
    "# After the operation, the updated list bacon will look like this:\n",
    "# [3.14, 'cat', 11, 'cat', True, 99]\n"
   ]
  },
  {
   "cell_type": "code",
   "execution_count": 10,
   "id": "f80a21d6",
   "metadata": {},
   "outputs": [],
   "source": [
    "# 8. How does bacon.remove(&#39;cat&#39;) change the look of the list in bacon?\n",
    "\n",
    "#Ans. The remove method in Python is used to remove the first occurrence of a specified value from a list. If you execute bacon.\n",
    "# remove('cat') on the list bacon = [3.14, 'cat', 11, 'cat', True, 99], it will remove the first occurrence of the string 'cat'.\n",
    "# After the operation, the updated list bacon will look like this: [3.14, 11, 'cat', True, 99]\n"
   ]
  },
  {
   "cell_type": "code",
   "execution_count": 12,
   "id": "25b6d01a",
   "metadata": {},
   "outputs": [],
   "source": [
    "# 9. What are the list concatenation and list replication operators?\n",
    "\n",
    "#Ans. List Concatenation (+): The + operator is used to concatenate two lists, combining them into a single list.\n",
    "# Example:\n",
    "list1 = [1, 2, 3]\n",
    "list2 = [4, 5, 6]\n",
    "concatenated_list = list1 + list2\n",
    "\n",
    "#List Replication (*):The * operator is used to replicate a list by repeating its elements a certain number of times.\n",
    "# Example: \n",
    "original_list = [1, 2, 3]\n",
    "replicated_list = original_list * 3\n",
    "\n"
   ]
  },
  {
   "cell_type": "code",
   "execution_count": 13,
   "id": "afaeb072",
   "metadata": {},
   "outputs": [],
   "source": [
    "# 10. What is difference between the list methods append() and insert()?\n",
    "\n",
    "# append() Method:The append() method is used to add a single element to the end of a list.\n",
    "# Example:my_list = [1, 2, 3]\n",
    "# my_list.append(4)\n",
    "# insert() Method: The insert() method is used to insert a single element at a specified index in a list. It takes two arguments\n",
    "#- the index where the element should be inserted, and the element itself.\n",
    "# Example: my_list = [1, 2, 3]\n",
    "# my_list.insert(1, 4)\n",
    "\n"
   ]
  },
  {
   "cell_type": "code",
   "execution_count": 14,
   "id": "910b2f7b",
   "metadata": {},
   "outputs": [],
   "source": [
    "# 11. What are the two methods for removing items from a list?\n",
    "\n",
    "#Ans. remove() Method: The remove() method is used to remove the first occurrence of a specified value from the list.\n",
    "# Example:my_list = [1, 2, 3, 2, 4]\n",
    "# my_list.remove(2)\n",
    "# my_list = [1, 2, 3, 2, 4]\n",
    "# my_list.remove(2)\n",
    "#pop() Method: The pop() method is used to remove and return an element from a specific index in the list. If no index is\n",
    "# specified, it removes and returns the last element.\n",
    "# Example:my_list = [1, 2, 3, 4]\n",
    "# popped_element = my_list.pop(1)\n",
    "\n",
    "\n"
   ]
  },
  {
   "cell_type": "code",
   "execution_count": 15,
   "id": "7b8f6445",
   "metadata": {},
   "outputs": [],
   "source": [
    "# 12. Describe how list values and string values are identical.\n",
    "\n",
    "#Ans. \n",
    "# Sequential Ordered Collection: \n",
    "# Both lists and strings are sequential, ordered collections of elements.\n",
    "# In a list, elements can be of any data type and are enclosed in square brackets [ ].\n",
    "# In a string, elements are characters and are enclosed in single (' ') or double (\" \") quotes.\n",
    "# Indexing:\n",
    "# Both lists and strings support indexing, allowing you to access individual elements based on their position in the sequence.\n",
    "# Indexing starts at 0 for both lists and strings.\n",
    "# Slicing:\n",
    "# Both lists and strings support slicing, allowing you to extract a portion of the sequence by specifying a range of indices.\n",
    "# Iteration:\n",
    "# You can iterate over the elements of both lists and strings using loops."
   ]
  },
  {
   "cell_type": "code",
   "execution_count": 16,
   "id": "68de3624",
   "metadata": {},
   "outputs": [],
   "source": [
    "# 13. What's the difference between tuples and lists?\n",
    "\n",
    "#Ans. Mutability:\n",
    "#Lists are mutable: You can modify a list after it's created. You can add, remove, or modify elements in a list.\n",
    "# Tuples are immutable: Once a tuple is created, you cannot change its elements. If you need to modify a tuple, you would need\n",
    "#to create a new tuple.\n",
    "#Syntax:\n",
    "# Lists are defined using square brackets [ ]:my_list = [1, 2, 3, 4]\n",
    "# Tuples are defined using parentheses ( ): my_tuple = (1, 2, 3, 4)\n",
    "# Methods and Functions:\n",
    "#Lists have more built-in methods: Because lists are mutable, they have more methods for adding, removing, and modifying\n",
    "# elements. For example, append(), extend(), remove(), and pop() are specific to lists.\n",
    "# Tuples have fewer methods: Tuples have fewer methods since they are immutable. They include methods like count() and index().\n",
    "# Performance:\n",
    "#Tuples are generally faster than lists: Because of their immutability, tuples can be more efficient in terms of performance for\n",
    "# certain operations.\n",
    "# Use Cases:\n",
    "# Lists are preferred for sequences of data that may need to be modified: If you need a collection of elements that may change\n",
    "# during the program execution, a list is a suitable choice.\n",
    "# Tuples are used for immutable collections: If you have a collection of elements that should remain constant throughout the\n",
    "#program, or if you want to use the collection as a key in a dictionary (since dictionaries require immutable keys), a tuple is\n",
    "#a good choice."
   ]
  },
  {
   "cell_type": "code",
   "execution_count": 17,
   "id": "b16c15f3",
   "metadata": {},
   "outputs": [],
   "source": [
    "# 14. How do you type a tuple value that only contains the integer 42?\n",
    "\n",
    "#Ans. To type a tuple value that only contains the integer 42, you would use parentheses () and include the integer inside.\n",
    "# Here's how you can define a tuple with the value 42:my_tuple = (42,)\n",
    "# The comma after the 42 is essential when defining a tuple with a single element. It distinguishes between an expression\n",
    "# inside parentheses and a tuple with a single element. Without the comma, Python would interpret the expression as just the\n",
    "# integer 42 in parentheses, not as a tuple.\n",
    "#So, (42,) is a tuple with a single element, and that element is the integer 42."
   ]
  },
  {
   "cell_type": "code",
   "execution_count": 18,
   "id": "b5dd0309",
   "metadata": {},
   "outputs": [],
   "source": [
    "# 15. How do you get a list value&#39;s tuple form? How do you get a tuple value&#39;s list form?\n",
    "\n",
    "# Ans. Converting a List to a Tuple: my_list = [1, 2, 3, 4]\n",
    "# my_tuple = tuple(my_list)\n",
    "# Converting a Tuple to a List: my_tuple = (1, 2, 3, 4)\n",
    "# my_list = list(my_tuple)\n",
    "\n",
    "\n"
   ]
  },
  {
   "cell_type": "code",
   "execution_count": 19,
   "id": "06c3d147",
   "metadata": {},
   "outputs": [],
   "source": [
    "# 16. Variables that &quot;contain&quot; list values are not necessarily lists themselves. Instead, what do they contain?\n",
    "\n",
    "#Ans. In Python, variables that \"contain\" list values actually contain references or pointers to the list objects, not the lists\n",
    "# themselves. The distinction is important because it reflects how Python manages data in memory.\n",
    "# When you assign a list to a variable, the variable holds a reference to the memory location where the list is stored. Consider\n",
    "# the following example:my_list = [1, 2, 3, 4]\n"
   ]
  },
  {
   "cell_type": "code",
   "execution_count": 20,
   "id": "f3d829ce",
   "metadata": {},
   "outputs": [],
   "source": [
    "# 17. How do you distinguish between copy.copy() and copy.deepcopy()?\n",
    "\n",
    "#Ans. \n",
    "#1. copy.copy() (Shallow Copy):\n",
    "#Creates a new object, but does not create copies of nested objects.\n",
    "#If the original object contains references to other objects (e.g., lists within lists), the shallow copy creates new references\n",
    "# to the same nested objects.\n",
    "# Changes to the nested objects in the copy are reflected in the original, and vice versa.\n",
    "# Suitable for non-nested or lightly nested structures.\n",
    "# 2. copy.deepcopy() (Deep Copy):\n",
    "# Creates a new object and recursively creates copies of all nested objects.\n",
    "# The entire structure is duplicated, and changes in the copy do not affect the original (and vice versa).\n",
    "# Suitable for complex structures with deep nesting."
   ]
  },
  {
   "cell_type": "code",
   "execution_count": null,
   "id": "8b6ee1fd",
   "metadata": {},
   "outputs": [],
   "source": []
  }
 ],
 "metadata": {
  "kernelspec": {
   "display_name": "Python 3",
   "language": "python",
   "name": "python3"
  },
  "language_info": {
   "codemirror_mode": {
    "name": "ipython",
    "version": 3
   },
   "file_extension": ".py",
   "mimetype": "text/x-python",
   "name": "python",
   "nbconvert_exporter": "python",
   "pygments_lexer": "ipython3",
   "version": "3.8.8"
  }
 },
 "nbformat": 4,
 "nbformat_minor": 5
}
