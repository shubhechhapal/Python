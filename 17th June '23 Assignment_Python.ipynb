{
 "cells": [
  {
   "cell_type": "code",
   "execution_count": 1,
   "id": "54e5ff1e",
   "metadata": {},
   "outputs": [],
   "source": [
    "# 1. What is the role of try and exception block?\n",
    "\n",
    "#Ans. The try block contains the code that might raise an exception.\n",
    "#If an exception occurs, the control immediately transfers to the except block.\n",
    "# The except block specifies the type of exception it can catch (e.g., except ValueError), and it contains the code to handle\n",
    "#the exception."
   ]
  },
  {
   "cell_type": "code",
   "execution_count": 2,
   "id": "519df99b",
   "metadata": {},
   "outputs": [],
   "source": [
    "# 2. What is the syntax for a basic try-except block?\n",
    "\n",
    "# The try block contains the code that you want to execute. If an exception occurs during the execution of this block, it will\n",
    "# be caught.\n",
    "# The except block is where you specify the type of exception you want to catch. You can catch a specific exception type, such\n",
    "# as ValueError, or use a more general Exception to catch any exception. The exception object (in this example, named e) allows\n",
    "# you to access information about the exception."
   ]
  },
  {
   "cell_type": "code",
   "execution_count": 3,
   "id": "8908a122",
   "metadata": {},
   "outputs": [],
   "source": [
    "# 3. What happens if an exception occurs inside a try block and there is no matching except block?\n",
    "\n",
    "# Ans. If an exception occurs inside a try block and there is no matching except block to handle that specific type of \n",
    "# exception, the program will terminate, and an unhandled exception message will be displayed. This can make it difficult to\n",
    "# identify the cause of the error and may result in an incomplete or unexpected program termination."
   ]
  },
  {
   "cell_type": "code",
   "execution_count": 4,
   "id": "1e0c409b",
   "metadata": {},
   "outputs": [],
   "source": [
    "# 4. What is the difference between using a bare except block and specifying a specific exception type?\n",
    "\n",
    "# Ans.1. Specific Exception Type:\n",
    "#When you specify a particular exception type in the except block, you catch only that specific type of exception.\n",
    "#This allows you to provide targeted handling for different types of errors.\n",
    "#It's considered good practice to catch only the exceptions you expect and can handle, rather than catching all exceptions.\n",
    "#2. Bare Except Block:\n",
    "# A bare except block catches any exception, regardless of its type.\n",
    "# While this approach can prevent the program from crashing unexpectedly, it may make it harder to identify the specific cause\n",
    "# of the error.\n",
    "# It's generally recommended to avoid using bare except blocks because they can catch even unexpected errors that you might not\n",
    "# have anticipated."
   ]
  },
  {
   "cell_type": "code",
   "execution_count": 5,
   "id": "16f45d96",
   "metadata": {},
   "outputs": [
    {
     "name": "stdout",
     "output_type": "stream",
     "text": [
      "Enter the first number: 123\n",
      "Enter the second number: 567\n",
      "Result: 0.21693121693121692\n"
     ]
    }
   ],
   "source": [
    "# 5. Can you have nested try-except blocks in Python? If yes, then give an example.\n",
    "\n",
    "#Ans. \n",
    "try:\n",
    "    # Outer try block\n",
    "    num1 = int(input(\"Enter the first number: \"))\n",
    "    num2 = int(input(\"Enter the second number: \"))\n",
    "\n",
    "    try:\n",
    "        # Inner try block\n",
    "        result = num1 / num2\n",
    "        print(\"Result:\", result)\n",
    "\n",
    "    except ZeroDivisionError as inner_exception:\n",
    "        # Handle division by zero error inside the inner try-except block\n",
    "        print(\"Inner Exception:\", inner_exception)\n",
    "\n",
    "except ValueError as outer_exception:\n",
    "    # Handle ValueError from the outer try-except block\n",
    "    print(\"Outer Exception:\", outer_exception)\n",
    "\n",
    "except Exception as e:\n",
    "    # Handle any other unexpected exceptions\n",
    "    print(\"An unexpected error occurred:\", e)\n"
   ]
  },
  {
   "cell_type": "code",
   "execution_count": 6,
   "id": "bc982e9a",
   "metadata": {},
   "outputs": [],
   "source": [
    "# 6. Can we use multiple exception blocks, if yes then give an example.\n",
    "\n",
    "# Ans. If the user enters a non-integer value, a ValueError will be caught and handled in the first except block.\n",
    "#If the user enters 0 as the second number, a ZeroDivisionError will be caught and handled in the second except block.\n",
    "#Any other unexpected exception will be caught and handled in the third except block."
   ]
  },
  {
   "cell_type": "code",
   "execution_count": 7,
   "id": "3b30378f",
   "metadata": {},
   "outputs": [],
   "source": [
    "# 7. Write the reason due to which following errors are raised:\n",
    "#a. EOFError\n",
    "#b. FloatingPointError\n",
    "#c. IndexError\n",
    "#d. MemoryError\n",
    "#e. OverflowError\n",
    "#f. TabError\n",
    "#g. ValueError\n",
    "\n",
    "#Ans. a. EOFError:\n",
    "#Reason: Raised when the input() function hits an end-of-file condition (EOF) without reading any data. This can occur if the\n",
    "#user presses Ctrl-D (Unix-like systems) or Ctrl-Z (Windows) to indicate the end of input.\n",
    "#b. FloatingPointError:\n",
    "#Reason: Raised when a floating-point operation (e.g., division by zero or an invalid operation) results in an undefined or\n",
    "#unrepresentable value.\n",
    "#c. IndexError:\n",
    "#Reason: Raised when you try to access an index in a sequence (like a list or a string) that is outside the range of valid\n",
    "#indices.\n",
    "#d. MemoryError:\n",
    "#Reason: Raised when an operation cannot be completed due to a lack of available memory.\n",
    "#e. OverflowError:\n",
    "#Reason: Raised when a mathematical operation exceeds the limits of the data type, resulting in a value too large to be\n",
    "#represented.\n",
    "#f. TabError:\n",
    "#Reason: Raised when indentation using tabs is inconsistent or mixed with spaces in Python code. Python expects consistent\n",
    "#indentation throughout the code.\n",
    "#g. ValueError:\n",
    "#Reason: Raised when a function receives an argument of the correct type but an inappropriate value. It can also be raised in\n",
    "#various other situations, depending on the context. For example, when trying to convert a string to an integer, and the string\n",
    "#does not represent a valid integer."
   ]
  },
  {
   "cell_type": "code",
   "execution_count": 8,
   "id": "196595f2",
   "metadata": {},
   "outputs": [
    {
     "name": "stdout",
     "output_type": "stream",
     "text": [
      "Enter the first number: 24\n",
      "Enter the second number: 3\n",
      "Result: 8.0\n"
     ]
    }
   ],
   "source": [
    "# 8. Write code for the following given scenario and add try-exception block to it.\n",
    "#a. Program to divide two numbers\n",
    "#b. Program to convert a string to an integer\n",
    "#c. Program to access an element in a list\n",
    "#d. Program to handle a specific exception\n",
    "#e. Program to handle any exception\n",
    "\n",
    "#Ans. a. Program to divide two numbers:\n",
    "try:\n",
    "    num1 = float(input(\"Enter the first number: \"))\n",
    "    num2 = float(input(\"Enter the second number: \"))\n",
    "    \n",
    "    result = num1 / num2\n",
    "    print(\"Result:\", result)\n",
    "\n",
    "except ZeroDivisionError:\n",
    "    print(\"Error: Division by zero is not allowed.\")\n",
    "\n",
    "except ValueError:\n",
    "    print(\"Error: Please enter valid numbers.\")\n"
   ]
  },
  {
   "cell_type": "code",
   "execution_count": 9,
   "id": "123a103b",
   "metadata": {},
   "outputs": [
    {
     "name": "stdout",
     "output_type": "stream",
     "text": [
      "Enter an integer: 3\n",
      "Integer value: 3\n"
     ]
    }
   ],
   "source": [
    "# b. Program to convert a string to an integer:\n",
    "try:\n",
    "    string_input = input(\"Enter an integer: \")\n",
    "    integer_value = int(string_input)\n",
    "    print(\"Integer value:\", integer_value)\n",
    "\n",
    "except ValueError:\n",
    "    print(\"Error: Please enter a valid integer.\")\n"
   ]
  },
  {
   "cell_type": "code",
   "execution_count": 12,
   "id": "aef7b59d",
   "metadata": {},
   "outputs": [
    {
     "name": "stdout",
     "output_type": "stream",
     "text": [
      "Enter the index to access: 1\n",
      "Element at index 1 is: 2\n"
     ]
    }
   ],
   "source": [
    "# c. Program to access an element in a list:\n",
    "try:\n",
    "    my_list = [1, 2, 3, 4, 5]\n",
    "    index = int(input(\"Enter the index to access: \"))\n",
    "    \n",
    "    result = my_list[index]\n",
    "    print(\"Element at index\", index, \"is:\", result)\n",
    "\n",
    "except IndexError:\n",
    "    print(\"Error: Index out of range.\")\n"
   ]
  },
  {
   "cell_type": "code",
   "execution_count": 13,
   "id": "061758f2",
   "metadata": {},
   "outputs": [
    {
     "name": "stdout",
     "output_type": "stream",
     "text": [
      "Enter a number: 3\n",
      "Result: 3.3333333333333335\n"
     ]
    }
   ],
   "source": [
    "#d. Program to handle a specific exception:\n",
    "try:\n",
    "    x = int(input(\"Enter a number: \"))\n",
    "    if x < 0:\n",
    "        raise ValueError(\"Number must be non-negative.\")\n",
    "\n",
    "    result = 10 / x\n",
    "    print(\"Result:\", result)\n",
    "\n",
    "except ValueError as ve:\n",
    "    print(\"ValueError:\", ve)\n",
    "except ZeroDivisionError:\n",
    "    print(\"Error: Division by zero is not allowed.\")\n"
   ]
  },
  {
   "cell_type": "code",
   "execution_count": 14,
   "id": "66b8e9e5",
   "metadata": {},
   "outputs": [
    {
     "name": "stdout",
     "output_type": "stream",
     "text": [
      "Enter a value: 4\n",
      "Result: 2.5\n"
     ]
    }
   ],
   "source": [
    "# e. Program to handle any exception:\n",
    "try:\n",
    "    # Some code that may raise an exception\n",
    "    value = int(input(\"Enter a value: \"))\n",
    "    result = 10 / value\n",
    "    print(\"Result:\", result)\n",
    "\n",
    "except Exception as e:\n",
    "    print(\"An unexpected error occurred:\", e)\n"
   ]
  },
  {
   "cell_type": "code",
   "execution_count": null,
   "id": "774d8357",
   "metadata": {},
   "outputs": [],
   "source": []
  }
 ],
 "metadata": {
  "kernelspec": {
   "display_name": "Python 3",
   "language": "python",
   "name": "python3"
  },
  "language_info": {
   "codemirror_mode": {
    "name": "ipython",
    "version": 3
   },
   "file_extension": ".py",
   "mimetype": "text/x-python",
   "name": "python",
   "nbconvert_exporter": "python",
   "pygments_lexer": "ipython3",
   "version": "3.8.8"
  }
 },
 "nbformat": 4,
 "nbformat_minor": 5
}
