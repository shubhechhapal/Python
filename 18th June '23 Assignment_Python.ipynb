{
 "cells": [
  {
   "cell_type": "code",
   "execution_count": 1,
   "id": "98d39a61",
   "metadata": {},
   "outputs": [],
   "source": [
    "# 1. What is the role of the 'else' block in a try-except statement? Provide an example scenario where it would be useful.\n",
    "\n",
    "#Ans. The else block in a try-except statement is used to specify a block of code that should be executed if the try block does\n",
    "# not raise any exceptions. In other words, if the code inside the try block runs successfully without encountering any\n",
    "# exceptions, the code in the else block will be executed."
   ]
  },
  {
   "cell_type": "code",
   "execution_count": 2,
   "id": "085bd0ae",
   "metadata": {},
   "outputs": [],
   "source": [
    "# 2. Can a try-except block be nested inside another try-except block? Explain with an example.\n",
    "\n",
    "#Ans. Yes, a try-except block can be nested inside another try-except block. This allows for a more fine-grained handling of\n",
    "# exceptions at different levels of code. Each try-except block can handle specific types of exceptions, providing a structured \n",
    "#way to manage errors.\n",
    "#The outer try-except block handles a ValueError that might occur if the user enters a non-integer value.\n",
    "#The inner try-except block handles a ZeroDivisionError that might occur if the user enters 0 as the second number.\n",
    "#The outermost except block handles any other unexpected exceptions."
   ]
  },
  {
   "cell_type": "code",
   "execution_count": 3,
   "id": "072633cf",
   "metadata": {},
   "outputs": [],
   "source": [
    "# 3. How can you create a custom exception class in Python? Provide an example that demonstrates its usage.\n",
    "\n",
    "#Ans. In Python, you can create a custom exception class by inheriting from the built-in Exception class or one of its\n",
    "# subclasses. Creating custom exception classes allows you to define your own exception types with specific behaviors or\n",
    "# attributes.\n",
    "#We create a custom exception class named CustomError that inherits from the built-in Exception class. The __init__ method is\n",
    "#used to initialize the exception with an optional error message.\n",
    "#The divide_numbers function uses the custom exception to raise an error if the denominator is zero.\n",
    "#In the example usage, we attempt to divide numerator by denominator. If the division is successful, the result is printed. If\n",
    "#a CustomError occurs (division by zero), it is caught and handled appropriately."
   ]
  },
  {
   "cell_type": "code",
   "execution_count": 4,
   "id": "fbac62b3",
   "metadata": {},
   "outputs": [],
   "source": [
    "# 4. What are some common exceptions that are built-in to Python?\n",
    "\n",
    "#Ans.SyntaxError: Raised when there is a syntax error in the Python code.\n",
    "#IndentationError: Raised when there is an incorrect indentation in the code.\n",
    "#TypeError:Raised when an operation or function is applied to an object of an inappropriate type.\n",
    "#ValueError: Raised when a built-in operation or function receives an argument of the correct type but an inappropriate value.\n",
    "#NameError: Raised when a local or global name is not found.\n",
    "# IndexError:Raised when a sequence subscript is out of range.\n",
    "#KeyError: Raised when a dictionary key is not found.\n",
    "# ZeroDivisionError: Raised when the second operand of a division or modulo operation is zero.\n",
    "# FileNotFoundError: Raised when a file or directory is requested but cannot be found.\n",
    "#PermissionError: Raised when trying to open a file with insufficient permissions.\n",
    "# IOError: Raised when an I/O operation fails.\n",
    "# AttributeError: Raised when an attribute reference or assignment fails.\n",
    "# ImportError: Raised when an import statement fails to find the module or name being imported.\n",
    "# RuntimeError: Raised when an error is detected that doesn't fall into any of the other categories.\n",
    "# MemoryError: Raised when an operation runs out of memory.\n",
    "# OverflowError:Raised when the result of an arithmetic operation is too large to be expressed within the available memory space."
   ]
  },
  {
   "cell_type": "code",
   "execution_count": 5,
   "id": "939ca515",
   "metadata": {},
   "outputs": [],
   "source": [
    "# 5. What is logging in Python, and why is it important in software development?\n",
    "\n",
    "#Ans. Debugging and Troubleshooting: Logs provide a valuable tool for debugging and troubleshooting issues in software. \n",
    "#Developers can include log statements at critical points in their code to trace the flow of execution and identify potential \n",
    "#problems.\n",
    "#Monitoring and Performance Analysis: In production environments, logging is essential for monitoring the health and performance\n",
    "#of a system. Log messages can be analyzed to identify bottlenecks, errors, or unexpected behaviors, allowing for proactive\n",
    "#maintenance.\n",
    "#Auditing and Compliance: For applications that handle sensitive data, logging is crucial for auditing and compliance purposes.\n",
    "#Log entries can capture information about user actions, security events, and other important activities.\n",
    "#Documentation and Understanding Code Flow: Logs can serve as a form of documentation within the code, helping developers and\n",
    "# system administrators understand the flow of a program. They provide insights into how different components interact and\n",
    "# handle various scenarios.\n",
    "# Error Reporting:By capturing and logging errors, developers can create a record of issues that occur during runtime. This\n",
    "# information can be invaluable for diagnosing problems and releasing more stable versions of software.\n",
    "# Configuration and Flexibility: The logging module in Python allows for flexible configuration, allowing developers to control\n",
    "#the format, destination, and level of log messages. This flexibility ensures that logging can be adapted to different\n",
    "# development and deployment scenarios."
   ]
  },
  {
   "cell_type": "code",
   "execution_count": 6,
   "id": "89a662ba",
   "metadata": {},
   "outputs": [],
   "source": [
    "# 6. Explain the purpose of log levels in Python logging and provide examples of when each log level would be appropriate.\n",
    "\n",
    "#Ans. DEBUG:Purpose: Detailed information, typically used for debugging purposes.\n",
    "#Example: Detailed variable values, flow of control, or any other information useful for debugging.\n",
    "#INFO: Purpose: General information about the program's operation.\n",
    "#Example: Initialization of components, successful connections, or key milestones in the program's execution.\n",
    "# WARNING: Purpose: Indicates a potential issue that does not prevent the program from running but might need attention.\n",
    "# Example: Deprecated feature usage, non-critical configuration issues, or unusual but not erroneous events.\n",
    "#ERROR:Purpose: Indicates a more serious issue that has caused an error or unexpected behavior.\n",
    "# Example: Exception traceback, failed operations, or unrecoverable errors.\n",
    "#CRITICAL: Purpose: Indicates a critical error that may lead to the termination of the program.\n",
    "# Example: Unhandled exceptions, critical resource unavailability, or other severe issues.\n"
   ]
  },
  {
   "cell_type": "code",
   "execution_count": 7,
   "id": "a09b5b85",
   "metadata": {},
   "outputs": [],
   "source": [
    "# 7. What are log formatters in Python logging, and how can you customise the log message format using formatters?\n",
    "\n",
    "#Ans. The %-based placeholders within the format string are used to represent different components of the log record. Here,\n",
    "#%(asctime)s, %(levelname)s, and %(message)s represent the timestamp, log level, and log message, respectively.\n",
    "#The Formatter instance (formatter) is applied to a StreamHandler (handler), which writes log messages to the console.\n",
    "#The logger (logger) is configured with the handler.\n",
    "#Customizing the log message format is important for tailoring log output to the specific needs of a project or application.\n",
    "#Some common format placeholders include:\n",
    "\n",
    "#%(asctime)s: Human-readable timestamp when the log record was created.\n",
    "#%(levelname)s: Log level (e.g., INFO, WARNING, ERROR).\n",
    "#%(message)s: The log message itself.\n",
    "#%(name)s: The logger name.\n",
    "#%(filename)s: The name of the source file where the logging call was made.\n",
    "#%(lineno)d: The line number in the source file where the logging call was made."
   ]
  },
  {
   "cell_type": "code",
   "execution_count": 8,
   "id": "07d2ea7a",
   "metadata": {},
   "outputs": [],
   "source": [
    "# 8. How can you set up logging to capture log messages from multiple modules or classes in a Python application?\n",
    "\n",
    "#Ans. Create a Shared Logger Instance: Create a shared logger instance using logging.getLogger(). The logger name can be used to\n",
    "#categorize log messages.\n",
    "#Configure the Logger: Configure the logger with log handlers, formatters, and the desired log level.\n",
    "# Use the Logger in Modules or Classes:\n",
    "# In each module or class where you want to log messages, obtain the shared logger using logging.getLogger(__name__).\n",
    "#The __name__ attribute ensures that the logger is associated with the module or class using it."
   ]
  },
  {
   "cell_type": "code",
   "execution_count": 9,
   "id": "3799fa51",
   "metadata": {},
   "outputs": [],
   "source": [
    "# 9. What is the difference between the logging and print statements in Python? Whenshould you use logging over print statements\n",
    "# in a real-world application?\n",
    "\n",
    "#Ans. Logging:\n",
    "#Levels of Severity: Logging provides different levels of severity (DEBUG, INFO, WARNING, ERROR, CRITICAL) to categorize\n",
    "#messages based on their importance. This allows for selective filtering of log messages.\n",
    "#Configurability:Logging is highly configurable. You can set up different log handlers, formatters, and levels for different\n",
    "#parts of your application. This makes it flexible and adaptable to various requirements.\n",
    "#Centralized Control: Logging allows you to configure log settings centrally, making it easy to control the logging behavior\n",
    "#globally across different modules or classes.\n",
    "#Output Destinations: Log messages can be directed to various output destinations such as the console, files, sockets, etc. This\n",
    "#flexibility is useful in different deployment scenarios.\n",
    "#Runtime Modification: Logging settings can be modified at runtime without modifying the source code, providing adaptability to\n",
    "#different situations.\n",
    "#Print Statements:\n",
    "#Simplicity: Print statements are simple and straightforward. They output messages to the console and don't involve a lot of\n",
    "#setup.\n",
    "#No Severity Levels: Print statements don't provide different severity levels like logging. All messages are treated equally.\n",
    "#Limited Configurability:\n",
    "#Print statements lack the configurability of logging. You cannot easily redirect output to different destinations or change the\n",
    "#formatting globally.\n",
    "#No Centralized Control:Print statements are scattered throughout the code, and controlling their behavior globally requires\n",
    "# modifying each occurrence.\n",
    "#When to Use Logging Over Print Statements:\n",
    "#Real-world Applications: For real-world applications, logging is generally preferred over print statements due to its\n",
    "#flexibility, configurability, and centralized control.\n",
    "#Debugging and Troubleshooting: Logging is more suitable for debugging and troubleshooting as it provides different log levels,\n",
    "#allowing you to control the amount of detail in the output.\n",
    "#Production Environments: In production environments, logging is crucial for monitoring, auditing, and analyzing the behavior of\n",
    "#the application. It allows you to capture relevant information without cluttering the console.\n",
    "#Long-Term Maintainability: Logging contributes to the long-term maintainability of the code by providing a structured way to\n",
    "#handle output. It allows you to control the amount of information displayed based on the context or deployment scenario."
   ]
  },
  {
   "cell_type": "code",
   "execution_count": 10,
   "id": "5bcce360",
   "metadata": {},
   "outputs": [],
   "source": [
    "# 10. Write a Python program that logs a message to a file named \"app.log\" with the following requirements:\n",
    "#● The log message should be \"Hello, World!\"\n",
    "#● The log level should be set to \"INFO.\"\n",
    "#● The log file should append new log entries without overwriting previous ones.\n",
    "\n",
    "#Ans. Configures logging to write to the file \"app.log\" using basicConfig.\n",
    "#Sets the logging level to \"INFO\" to include messages at the INFO level and above.\n",
    "#Specifies a custom log format that includes the timestamp, log level, and log message.\n",
    "#Logs the message \"Hello, World!\" using logging.info."
   ]
  },
  {
   "cell_type": "code",
   "execution_count": 11,
   "id": "c6d2f473",
   "metadata": {},
   "outputs": [],
   "source": [
    "# 11. Create a Python program that logs an error message to the console and a file named \"errors.log\" if an exception occurs\n",
    "# during the program's execution. The error message should include the exception type and a timestamp.\n",
    "\n",
    "#Ans. The basicConfig function is used to configure logging. It sets the logging level to ERROR, specifies a custom log format\n",
    "#that includes the timestamp, log level, and message, and adds both a StreamHandler (console output) and a FileHandler (file\n",
    "#output).\n",
    "#The main function contains the code that may raise an exception (division by zero in this case).\n",
    "#Inside the except block, the error message is composed, including the exception type, timestamp, and the exception's string\n",
    "#representation.\n",
    "#The logging.error function is used to log the error message to both the console and the \"errors.log\" file.\n",
    "# Optionally, the traceback.format_exc() function is used to log the traceback, providing more detailed information about the\n",
    "# exception."
   ]
  },
  {
   "cell_type": "code",
   "execution_count": null,
   "id": "7740c23b",
   "metadata": {},
   "outputs": [],
   "source": []
  }
 ],
 "metadata": {
  "kernelspec": {
   "display_name": "Python 3",
   "language": "python",
   "name": "python3"
  },
  "language_info": {
   "codemirror_mode": {
    "name": "ipython",
    "version": 3
   },
   "file_extension": ".py",
   "mimetype": "text/x-python",
   "name": "python",
   "nbconvert_exporter": "python",
   "pygments_lexer": "ipython3",
   "version": "3.8.8"
  }
 },
 "nbformat": 4,
 "nbformat_minor": 5
}
