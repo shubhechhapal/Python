{
 "cells": [
  {
   "cell_type": "code",
   "execution_count": 1,
   "id": "37941eba",
   "metadata": {},
   "outputs": [],
   "source": [
    "# Q.1. What are keywords in python? Using the keyword library, print all the python keywords.\n",
    "\n",
    "# Ans. False\tawait\telse\timport\tpass None\tbreak\texcept\tin\traise True\tclass\tfinally\tis\treturn and\tcontinue\t\n",
    "#for\tlambda\ttry as\tdef\tfrom\tnonlocal\twhile assert\tdel\tglobal\tnot\twith async\telif\tif\tor\tyield"
   ]
  },
  {
   "cell_type": "code",
   "execution_count": 2,
   "id": "affb2cf5",
   "metadata": {},
   "outputs": [],
   "source": [
    "# Q.2. What are the rules to create variables in python?\n",
    "\n",
    "# Variable Name Rules: Variable names must start with a letter (a-z, A-Z) or an underscore (_).\n",
    "# The remaining characters in the variable name can include letters, numbers, and underscores.\n",
    "# Variable names are case-sensitive (e.g., myVar and myvar are different variables).\n",
    "# Reserved Keywords: You cannot use Python reserved keywords as variable names.\n",
    "# Whitespace: Variable names cannot contain spaces.\n",
    "# Special Characters: Special characters (except underscore) such as !, @, #, $, %, etc., are not allowed in variable names.\n",
    "# Naming Conventions: It is a convention in Python to use snake_case for variable names (e.g., my_variable), where words are\n",
    "# separated by underscores. This improves readability.\n",
    "# Avoid Built-in Functions: It's good practice to avoid using names of built-in functions and modules for your variables to\n",
    "# prevent conflicts. For example, don't name a variable print or list."
   ]
  },
  {
   "cell_type": "code",
   "execution_count": 3,
   "id": "e64f9823",
   "metadata": {},
   "outputs": [],
   "source": [
    "# Q.3. What are the standards and conventions followed for the nomenclature of variables in python to improve code readability\n",
    "# and maintainability?\n",
    "\n",
    "# Ans. 1. Snake Case: Use snake_case for variable names. This means words are in lowercase, separated by underscores.\n",
    "# my_variable_name\n",
    "#2. Descriptive Names: Choose descriptive and meaningful names for variables. This makes the code more self-explanatory.\n",
    "# total_amount\n",
    "# user_input\n",
    "#3. Avoid Single-Letter Names: Avoid using single-letter variable names unless they represent a well-known convention (e.g., i\n",
    "# for an index in a loop).\n",
    "# x = 10\n",
    "#4. Avoid Underscores at the Beginning/End: Avoid using underscores at the beginning or end of variable names unless it has a\n",
    "# specific meaning (e.g., _internal_variable for internal use).\n",
    "# _variable_\n",
    "# 5.Constants in Uppercase: Use uppercase letters for constants to indicate that they should not be changed.\n",
    "# MAX_VALUE = 100\n",
    "# 6. Class Names in CamelCase: For class names, use CamelCase (capitalize the first letter of each word without spaces).\n",
    "# class MyClass:\n",
    "#    pass\n",
    "#7. Function Names: Function names should be lowercase with words separated by underscores.\n",
    "# def calculate_total():\n",
    "#    pass\n",
    "# 8.Avoid Shadowing Built-ins: Avoid using names that could shadow Python built-in functions or commonly used modules.\n",
    "# list = [1, 2, 3]\n",
    "\n"
   ]
  },
  {
   "cell_type": "code",
   "execution_count": 4,
   "id": "fa7ca3e5",
   "metadata": {},
   "outputs": [],
   "source": [
    "# Q.4. What will happen if a keyword is used as a variable name?\n",
    "\n",
    "#Ans. If you use a keyword as a variable name in Python, you will encounter a syntax error. Keywords are reserved words in the\n",
    "# Python language, and they have predefined meanings. Attempting to use a keyword as a variable name goes against the language\n",
    "# syntax rules.\n",
    "# def = 10\n"
   ]
  },
  {
   "cell_type": "code",
   "execution_count": 5,
   "id": "961a1708",
   "metadata": {},
   "outputs": [],
   "source": [
    "# Q.5. For what purpose def keyword is used?\n",
    "\n",
    "# In Python, the def keyword is used to define a function. Functions are blocks of organized, reusable code that perform a\n",
    "#specific task. The def keyword is followed by the function name and a pair of parentheses. Any parameters that the function\n",
    "#takes are placed within the parentheses. The function body is then indented below the def statement.\n",
    "# In this example:\n",
    "# def is used to indicate the beginning of the function definition.\n",
    "# greet is the function name.\n",
    "# (name) are the parameters that the function takes (in this case, a single parameter named name).\n",
    "# The colon (:) signifies the beginning of the function body.\n",
    "#The indented block below contains the code that defines what the function does."
   ]
  },
  {
   "cell_type": "code",
   "execution_count": 6,
   "id": "ff885886",
   "metadata": {},
   "outputs": [],
   "source": [
    "# Q.6. What is the operation of this special character ‘\\’?\n",
    "\n",
    "# 1. Escape Sequences in Strings:\n",
    "# The backslash is used to introduce escape sequences within strings. For example:\n",
    "# print(\"This is a newline\\nand this is a tab\\t.\")\n",
    "# 2. Escape Single and Double Quotes:\n",
    "# The backslash can be used to escape single (') and double (\") quotes inside strings.\n",
    "# print(\"He said, \\\"Hello!\\\"\")\n",
    "# 3. Backslash as a Line Continuation:\n",
    "# In Python, a backslash at the end of a line is used as a line continuation character. It allows you to continue a statement on\n",
    "# the next line.\n",
    "# total = 10 + \\\n",
    "#        5 + \\\n",
    "#        3\n",
    "#4. Raw Strings:\n",
    "# Prefixing a string literal with r or R creates a raw string, where backslashes are treated as literal characters and not as\n",
    "# escape characters.\n",
    "# print(r\"This is a raw string with \\n a newline.\")\n",
    "# Unicode Escape:\n",
    "# The backslash can be used to represent Unicode characters using escape sequences.\n",
    "# print(\"\\u03A9\")  # Prints the Greek capital letter Omega (Ω)\n"
   ]
  },
  {
   "cell_type": "code",
   "execution_count": 7,
   "id": "903f93f1",
   "metadata": {},
   "outputs": [],
   "source": [
    "# Q.7. Give an example of the following conditions:\n",
    "# (i) Homogeneous list\n",
    "# (ii) Heterogeneous set\n",
    "# (iii) Homogeneous tuple\n",
    "\n",
    "# (i) Homogeneous List: A homogeneous list in Python is a list where all elements have the same data type. Here's an example:\n",
    "# integer_list = [1, 2, 3, 4, 5]\n",
    "#print(\"Homogeneous List of Integers:\", integer_list)\n",
    "#string_list = [\"apple\", \"banana\", \"cherry\", \"date\"]\n",
    "#print(\"Homogeneous List of Strings:\", string_list)\n",
    "# (ii) Heterogeneous Set:\n",
    "#A heterogeneous set in Python is a set where elements can have different data types. Each element in a set must be unique.\n",
    "# Here's an example:\n",
    "# heterogeneous_set = {1, 2.5, \"apple\", (1, 2)}\n",
    "# print(\"Heterogeneous Set:\", heterogeneous_set)\n",
    "# (iii) Homogeneous Tuple:\n",
    "# A homogeneous tuple in Python is a tuple where all elements have the same data type. Tuples are immutable, meaning their\n",
    "# elements cannot be changed after creation. Here's an example:\n",
    "#integer_tuple = (10, 20, 30, 40, 50)\n",
    "# print(\"Homogeneous Tuple of Integers:\", integer_tuple)\n",
    "#string_tuple = (\"apple\", \"banana\", \"cherry\")\n",
    "# print(\"Homogeneous Tuple of Strings:\", string_tuple)\n"
   ]
  },
  {
   "cell_type": "code",
   "execution_count": 8,
   "id": "19c17ce7",
   "metadata": {},
   "outputs": [],
   "source": [
    "# Q.8. Explain the mutable and immutable data types with proper explanation & examples.\n",
    "\n",
    "#Ans. Mutable Data Types: Mutable data types are those whose values can be changed or modified after the object is created. In\n",
    "# other words, you can alter the content of a mutable object without creating a new one.\n",
    "#Immutable Data Types: Immutable data types, on the other hand, are those whose values cannot be changed after the object is\n",
    "# created. Any operation that appears to modify the object actually creates a new object.\n",
    "# Key Differences:\n",
    "# Mutability:\n",
    "# Mutable types can be modified in-place.\n",
    "# Immutable types cannot be modified after creation; any operation that seems to modify the object actually creates a new object.\n",
    "# Examples:\n",
    "# Mutable: Lists, dictionaries, sets.\n",
    "# Immutable: Strings, tuples, numeric types (int, float).\n",
    "# Impact on Code:\n",
    "# Mutable types allow for in-place modifications, which can be efficient in terms of memory usage.\n",
    "# Immutable types provide safety and clarity, as their values cannot be accidentally changed."
   ]
  },
  {
   "cell_type": "code",
   "execution_count": 10,
   "id": "e8de4f40",
   "metadata": {},
   "outputs": [
    {
     "name": "stdout",
     "output_type": "stream",
     "text": [
      "    *\n",
      "   ***\n",
      "  *****\n",
      " *******\n",
      "*********\n"
     ]
    }
   ],
   "source": [
    "# Q.9. Write a code to create the given structure using only for loop.\n",
    "#    *\n",
    "#   ***\n",
    "#  *****\n",
    "# *******\n",
    "#*********\n",
    "\n",
    "#Ans. \n",
    "num_rows = 5\n",
    "for i in range(num_rows):   \n",
    "    for j in range(num_rows - i - 1):\n",
    "        print(\" \", end=\"\")   \n",
    "    for k in range(2 * i + 1):\n",
    "        print(\"*\", end=\"\")  \n",
    "    print()\n"
   ]
  },
  {
   "cell_type": "code",
   "execution_count": 32,
   "id": "776ccb34",
   "metadata": {},
   "outputs": [],
   "source": [
    "# Q.10. Write a code to create the given structure using while loop.\n",
    "#|||||||||\n",
    "# ||||||| \n",
    "#  |||||  \n",
    "#   |||   \n",
    "#   |   \n",
    "\n",
    "#Ans. \n",
    "#num_rows = 5\n",
    "#row = 1\n",
    "#while row <= num_rows:\n",
    "#    spaces = 0\n",
    "#    while spaces < num_rows - row:\n",
    "#        print(\" \", end=\"\")\n",
    "#        spaces += 1\n",
    "#    bars = 0\n",
    "#    while bars < 2 * row - 1:\n",
    "#        print(\"|\", end=\"\")\n",
    "#        bars += 1\n",
    "#    print()\n",
    "#    row += 1\n"
   ]
  },
  {
   "cell_type": "code",
   "execution_count": null,
   "id": "f9f86169",
   "metadata": {},
   "outputs": [],
   "source": []
  },
  {
   "cell_type": "code",
   "execution_count": null,
   "id": "d14a452b",
   "metadata": {},
   "outputs": [],
   "source": []
  }
 ],
 "metadata": {
  "kernelspec": {
   "display_name": "Python 3",
   "language": "python",
   "name": "python3"
  },
  "language_info": {
   "codemirror_mode": {
    "name": "ipython",
    "version": 3
   },
   "file_extension": ".py",
   "mimetype": "text/x-python",
   "name": "python",
   "nbconvert_exporter": "python",
   "pygments_lexer": "ipython3",
   "version": "3.8.8"
  }
 },
 "nbformat": 4,
 "nbformat_minor": 5
}
