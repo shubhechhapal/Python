{
 "cells": [
  {
   "cell_type": "code",
   "execution_count": 1,
   "id": "8d03b2ae",
   "metadata": {},
   "outputs": [],
   "source": [
    "# 1. Why are functions advantageous to have in your programs?\n",
    "\n",
    "#Ans. Modularity: Functions allow you to break down a complex program into smaller, more manageable pieces. Each function can\n",
    "#focus on a specific task or functionality.\n",
    "# Code Reusability: Once you define a function, you can reuse it in different parts of your program or even in other projects.\n",
    "# This promotes a more efficient and DRY (Don't Repeat Yourself) coding approach.\n",
    "# Readability: Functions enhance the readability of your code by abstracting away the details of a particular operation. A well-\n",
    "#named function can serve as documentation, describing its purpose and functionality.\n",
    "# Ease of Debugging:Functions help in isolating errors or bugs to specific parts of your code. When a function is not working as\n",
    "#expected, you can focus on that particular function without dealing with the entire program.\n",
    "#bScoping: Functions define their own scope, which helps in avoiding naming conflicts between variables in different parts of\n",
    "#the program. This enhances code reliability and reduces the likelihood of unintended side effects.\n",
    "#Abstraction: Functions provide a level of abstraction, allowing you to use high-level operations without worrying about the\n",
    "#details of the implementation. This makes the code more user-friendly and hides complexity when it's not necessary to expose it.\n",
    "#Testing: Functions make it easier to write and conduct unit tests. You can test each function individually, ensuring that\n",
    "#specific components of your program work correctly before integrating them into the whole.\n",
    "#Collaboration: In a team environment, functions facilitate collaboration by allowing team members to work on different\n",
    "#functions simultaneously. As long as the function interfaces are well-defined, team members can integrate their work more\n",
    "#easily.\n",
    "#Code Organization:Functions contribute to a well-organized code structure. A program with well-defined functions is typically\n",
    "#easier to navigate and understand than one with a monolithic structure."
   ]
  },
  {
   "cell_type": "code",
   "execution_count": 2,
   "id": "b05df820",
   "metadata": {},
   "outputs": [],
   "source": [
    "# 2. When does the code in a function run: when it's specified or when it's called?\n",
    "\n",
    "#Ans. The code within a function runs when the function is called, not when it's specified or defined. In programming, a\n",
    "#function is a block of code that performs a specific task or set of tasks. When you define a function, you are essentially\n",
    "#creating a reusable set of instructions. However, these instructions are executed only when you invoke or call the function in\n",
    "#your code."
   ]
  },
  {
   "cell_type": "code",
   "execution_count": 3,
   "id": "7c49b5f7",
   "metadata": {},
   "outputs": [],
   "source": [
    "# 3. What statement creates a function?\n",
    "\n",
    "#Ans. function_name is the name you give to your function.\n",
    "# parameters are optional input values that the function can accept.\n",
    "# The indented code below the def statement constitutes the body of the function."
   ]
  },
  {
   "cell_type": "code",
   "execution_count": 4,
   "id": "3eec10b2",
   "metadata": {},
   "outputs": [],
   "source": [
    "# 4. What is the difference between a function and a function call?\n",
    "\n",
    "#Ans. Function: A function is a block of code that performs a specific task or a set of tasks.\n",
    "#Functions are defined using a declaration or definition, specifying the name of the function, its parameters (if any), and the\n",
    "#code block that is executed when the function is called.\n",
    "# Functions provide modularity, allowing you to break down a program into smaller, manageable units, each responsible for a\n",
    "# particular operation.\n",
    "#Function Call:A function call is the act of invoking or executing a function to perform its specified tasks.\n",
    "# When you call a function, you use its name followed by parentheses, and any required arguments or parameters are passed\n",
    "#inside the parentheses.\n",
    "#The function call triggers the execution of the code within the function."
   ]
  },
  {
   "cell_type": "code",
   "execution_count": 5,
   "id": "daef7b28",
   "metadata": {},
   "outputs": [],
   "source": [
    "# 5. How many global scopes are there in a Python program? How many local scopes?\n",
    "\n",
    "#Ans. Global Scope:\n",
    "# There is only one global scope in a Python program.\n",
    "# The global scope is the outermost scope and is not enclosed by any function or class.\n",
    "# Variables defined in the global scope are accessible throughout the entire program.\n",
    "# Local Scope:\n",
    "# Local scopes are created whenever a function is called.\n",
    "# Each function call creates its own local scope, and variables defined within that function are local to that scope.\n",
    "# Local variables are not accessible outside the function in which they are defined."
   ]
  },
  {
   "cell_type": "code",
   "execution_count": 6,
   "id": "2a0d9e9d",
   "metadata": {},
   "outputs": [],
   "source": [
    "# 6. What happens to variables in a local scope when the function call returns?\n",
    "\n",
    "#Ans. Variable Destruction:\n",
    "# All local variables created within the function are destroyed.\n",
    "#This means that the memory allocated to these variables is released, and the names of the variables become undefined in the\n",
    "# program.\n",
    "# Inaccessibility:\n",
    "#Variables defined in a local scope are not accessible outside the function in which they are created.\n",
    "#Attempting to access a local variable from outside its scope or after the function has returned will result in an error."
   ]
  },
  {
   "cell_type": "code",
   "execution_count": 7,
   "id": "7ce7aa1b",
   "metadata": {},
   "outputs": [],
   "source": [
    "# 7. What is the concept of a return value? Is it possible to have a return value in an expression?\n",
    "\n",
    "# Ans. The concept of a return value is fundamental in programming and refers to the value that a function produces or \"returns\"\n",
    "#after its execution. When a function is called, it may perform certain operations and then optionally provide a result back to\n",
    "#the calling code. The return statement is used to specify the value that the function will produce."
   ]
  },
  {
   "cell_type": "code",
   "execution_count": 8,
   "id": "9a77ae22",
   "metadata": {},
   "outputs": [],
   "source": [
    "# 8. If a function does not have a return statement, what is the return value of a call to that function?\n",
    "\n",
    "# Ans. If a function in Python does not have a return statement, or if the return statement is without any expression, the\n",
    "#function will implicitly return a special value called None. None is a built-in constant representing the absence of a value or\n",
    "#a null value in Python."
   ]
  },
  {
   "cell_type": "code",
   "execution_count": 9,
   "id": "67bd36fc",
   "metadata": {},
   "outputs": [],
   "source": [
    "# 9. How do you make a function variable refer to the global variable?\n",
    "\n",
    "# Ans. global_variable is a variable defined in the global scope.\n",
    "# my_function is a function that also has a local variable named local_variable.\n",
    "# Inside the function, the global keyword is used to specify that the global_variable refers to the global variable, not a local\n",
    "#one.\n",
    "# The function prints both the local and global variables.\n",
    "# When you call the function, it will use the global variable within its scope.\n",
    "# Outside the function, the global variable retains its value."
   ]
  },
  {
   "cell_type": "code",
   "execution_count": 10,
   "id": "834ba9fd",
   "metadata": {},
   "outputs": [],
   "source": [
    "# 10. What is the data type of None?\n",
    "\n",
    "#Ans. In Python, None is a special constant that represents the absence of a value or a null value. It is often used to signify\n",
    "#that a variable or a function does not have a meaningful result or does not point to any object.\n",
    "#The data type of None is NoneType. You can use the type() function to check the type of a variable in Python. Here's an\n",
    "# example:result = None\n",
    "#print(type(result))  # Output: <class 'NoneType'>\n"
   ]
  },
  {
   "cell_type": "code",
   "execution_count": 11,
   "id": "da441889",
   "metadata": {},
   "outputs": [],
   "source": [
    "# 11. What does the sentence import areallyourpetsnamederic do?\n",
    "\n",
    "# Ans. The sentence \"import areallyourpetsnamederic\" is not a standard Python import statement, and it does not correspond to\n",
    "# any module or library in the Python standard library or common third-party libraries."
   ]
  },
  {
   "cell_type": "code",
   "execution_count": 12,
   "id": "9d13e115",
   "metadata": {},
   "outputs": [],
   "source": [
    "# 12. If you had a bacon() feature in a spam module, what would you call it after importing spam?\n",
    "\n",
    "#Ans. import spam\n",
    "#spam.bacon()\n",
    "\n",
    "#import spam imports the entire spam module into your current namespace.\n",
    "#spam.bacon() references the bacon() function within the spam module and calls it.\n"
   ]
  },
  {
   "cell_type": "code",
   "execution_count": 13,
   "id": "a6385546",
   "metadata": {},
   "outputs": [],
   "source": [
    "# 13. What can you do to save a programme from crashing if it encounters an error?\n",
    "\n",
    "# Ans. 1. Try-Except Blocks:\n",
    "# Use a try-except block to catch and handle exceptions gracefully.\n",
    "# Place the code that might raise an exception inside the try block, and handle the exception in the corresponding except block.\n",
    "#2. Specific Exception Handling:\n",
    "#Be specific about the types of exceptions you are catching. This helps you handle different types of errors differently.\n",
    "#3. Logging:\n",
    "# Use the logging module to log information about errors. Logging allows you to capture details about the error for later \n",
    "# analysis.\n",
    "#4. Default Values or Graceful Degradation:\n",
    "# Provide default values or implement graceful degradation when an error occurs. This allows your program to continue running\n",
    "# with reduced functionality.\n",
    "# 5. Default Values or Graceful Degradation:\n",
    "# Provide default values or implement graceful degradation when an error occurs. This allows your program to continue running\n",
    "# with reduced functionality.\n",
    "#6. Raise Custom Exceptions:\n",
    "# Raise custom exceptions when necessary to provide more meaningful error messages and make your code more maintainable.\n"
   ]
  },
  {
   "cell_type": "code",
   "execution_count": 14,
   "id": "b3b5bb61",
   "metadata": {},
   "outputs": [],
   "source": [
    "# 14. What is the purpose of the try clause? What is the purpose of the except clause?\n",
    "\n",
    "#Ans. Purpose of the try Clause:\n",
    "#The try clause encloses a block of code where you anticipate that an exception might occur.\n",
    "#If an exception occurs within the try block, the normal flow of execution is interrupted, and Python looks for an appropriate\n",
    "# except block to handle the exception.\n",
    "# The primary purpose of the try clause is to isolate the code that might raise an exception, providing a structured way to\n",
    "# handle errors.\n",
    "# Purpose of the except Clause:\n",
    "# The except clause specifies the type of exception that the code within the try block might raise.\n",
    "# If an exception of the specified type occurs, the code within the corresponding except block is executed.\n",
    "# Multiple except blocks can be used to handle different types of exceptions."
   ]
  },
  {
   "cell_type": "code",
   "execution_count": null,
   "id": "c0fadea3",
   "metadata": {},
   "outputs": [],
   "source": []
  }
 ],
 "metadata": {
  "kernelspec": {
   "display_name": "Python 3",
   "language": "python",
   "name": "python3"
  },
  "language_info": {
   "codemirror_mode": {
    "name": "ipython",
    "version": 3
   },
   "file_extension": ".py",
   "mimetype": "text/x-python",
   "name": "python",
   "nbconvert_exporter": "python",
   "pygments_lexer": "ipython3",
   "version": "3.8.8"
  }
 },
 "nbformat": 4,
 "nbformat_minor": 5
}
