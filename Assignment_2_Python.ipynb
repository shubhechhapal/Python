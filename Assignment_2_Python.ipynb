{
 "cells": [
  {
   "cell_type": "code",
   "execution_count": 1,
   "id": "d7d4d798",
   "metadata": {},
   "outputs": [],
   "source": [
    "# 1.What are the two values of the Boolean data type? How do you write them?\n",
    "\n",
    "# Ans. The Boolean data type has two possible values: true and false. \n",
    "#  These values are often used in conditional statements and expressions to control the flow of a program based on whether a\n",
    "#condition is true or false.\n",
    "\n",
    "\n",
    "\n",
    "\n",
    "\n"
   ]
  },
  {
   "cell_type": "code",
   "execution_count": 2,
   "id": "8720ed34",
   "metadata": {},
   "outputs": [],
   "source": [
    "# 2. What are the three different types of Boolean operators?\n",
    "\n",
    "# Ans. AND Operator (and): This operator returns True only if both of its operands are True.\n",
    "# Example:True and True  # Evaluates to True\n",
    "#        True and False  # Evaluates to False\n",
    "#OR Operator (or): This operator returns True if at least one of its operands is True.\n",
    "# Example:True or False  # Evaluates to True\n",
    "#False or False  # Evaluates to False\n",
    "# NOT Operator (not): This operator is a unary operator that negates the value of its operand.\n",
    "# Example:not True  # Evaluates to False\n",
    "# not False  # Evaluates to True\n",
    "\n",
    "\n"
   ]
  },
  {
   "cell_type": "code",
   "execution_count": 3,
   "id": "841a5493",
   "metadata": {},
   "outputs": [],
   "source": [
    "# 3. Make a list of each Boolean operator's truth tables (i.e. every possible combination of Boolean values for the operator\n",
    "# and what it evaluate ).\n",
    "\n",
    "# Ans. AND Operator (and):\n",
    "\n",
    "#A       B      A and B\n",
    "#True\tTrue\tTrue\n",
    "#True\tFalse\tFalse\n",
    "#False\tTrue\tFalse\n",
    "#False\tFalse\tFalse\n",
    "\n",
    "# OR Operator (or):\n",
    "\n",
    "#A\t     B\t    A or B\n",
    "#True\tTrue\tTrue\n",
    "#True\tFalse\tTrue\n",
    "#False\tTrue\tTrue\n",
    "#False\tFalse\tFalse\n",
    "\n",
    "#NOT Operator (not):\n",
    "\n",
    "#A\t     not A\n",
    "#True\tFalse\n",
    "#False\tTrue"
   ]
  },
  {
   "cell_type": "code",
   "execution_count": 4,
   "id": "09857866",
   "metadata": {},
   "outputs": [],
   "source": [
    "# 4. What are the values of the following expressions?\n",
    "# (5 > 4) and (3 == 5)\n",
    "# not (5 > 4)\n",
    "# (5 > 4) or (3 == 5)\n",
    "# not ((5 > 4) or (3 == 5))\n",
    "# (True and True) and (True == False)\n",
    "# (not False) or (not True)\n",
    "\n",
    "\n",
    "#Ans. (5 > 4) and (3 == 5)\n",
    "#The first part, 5 > 4, is true.\n",
    "#The second part, 3 == 5, is false.\n",
    "#The overall expression is True and False, which evaluates to False.\n",
    "# False\n",
    "\n",
    "# not (5 > 4)\n",
    "#The inner expression, 5 > 4, is true.\n",
    "# The not operator negates it, resulting in False.\n",
    "#(5 > 4) or (3 == 5)\n",
    "# False\n",
    "\n",
    "# The first part, 5 > 4, is true.\n",
    "# The overall expression is True or False, which evaluates to True.\n",
    "# not ((5 > 4) or (3 == 5))\n",
    "# True\n",
    "\n",
    "# The inner expression, (5 > 4) or (3 == 5), is True or False, which is True.\n",
    "# The not operator negates it, resulting in False.\n",
    "# (True and True) and (True == False)\n",
    "# False\n",
    "\n",
    "# The first part, True and True, is True.\n",
    "# The second part, True == False, is False.\n",
    "# The overall expression is True and False, which evaluates to False.\n",
    "# (not False) or (not True)\n",
    "# False\n",
    "\n",
    "# The first part, not False, is True.\n",
    "# The second part, not True, is False.\n",
    "# The overall expression is True or False, which evaluates to True.\n",
    "# So, the values of the given expressions are:\n",
    "# True\n",
    "\n",
    "\n",
    "\n",
    "\n",
    "\n"
   ]
  },
  {
   "cell_type": "code",
   "execution_count": 5,
   "id": "ee3f647f",
   "metadata": {},
   "outputs": [],
   "source": [
    "# 5. What are the six comparison operators?\n",
    "\n",
    "#Ans. \n",
    "#1. Equal to (==): Checks if the values on both sides of the operator are equal.\n",
    "# Example:5 == 5  # True\n",
    "# 2. Not equal to (!=): Checks if the values on both sides of the operator are not equal.\n",
    "# Example:5 != 10  # True\n",
    "# 3. Greater than (>): Checks if the value on the left is greater than the value on the right.\n",
    "# Example:10 > 5  # True\n",
    "# 4. Less than (<): Checks if the value on the left is less than the value on the right.\n",
    "# Example:5 < 10  # True\n",
    "# 5. Greater than or equal to (>=): Checks if the value on the left is greater than or equal to the value on the right.\n",
    "# Example:10 >= 10  # True\n",
    "# 6. Less than or equal to (<=): Checks if the value on the left is less than or equal to the value on the right.\n",
    "# Example:5 <= 10  # True\n"
   ]
  },
  {
   "cell_type": "code",
   "execution_count": 6,
   "id": "ac6be8ec",
   "metadata": {},
   "outputs": [],
   "source": [
    "# 6. How do you tell the difference between the equal to and assignment operators?Describe a condition and when you would use\n",
    "#one.\n",
    "\n",
    "# Ans. \n",
    "#1. Equality Operator (==): The equality operator is used to compare two values to check if they are equal.It returns True if\n",
    "# the values are equal and False otherwise.\n",
    "# Example: x = 5\n",
    "# y = 10\n",
    "# result = (x == y)  # Evaluates to False\n",
    "#2. Assignment Operator (=): The assignment operator is used to assign a value to a variable.It takes the value on the right and\n",
    "# assigns it to the variable on the left.\n",
    "# Example: x = 5  # Assigns the value 5 to the variable x\n",
    "\n",
    "\n"
   ]
  },
  {
   "cell_type": "code",
   "execution_count": 7,
   "id": "cd0a8291",
   "metadata": {},
   "outputs": [],
   "source": [
    "# 7. Identify the three blocks in this code:\n",
    "# spam = 0\n",
    "# if spam == 10:\n",
    "# print('eggs')\n",
    "# if spam > 5:\n",
    "# print('bacon')\n",
    "# else:\n",
    "# print('ham')\n",
    "# print('spam')\n",
    "# print('spam')\n",
    "\n",
    "#Ans. Block 1:\n",
    "#if spam == 10:\n",
    "#    print('eggs')\n",
    "#Block 2:\n",
    "#if spam > 5:\n",
    "#    print('bacon')\n",
    "#else:\n",
    "#    print('ham')\n",
    "#Block 3:\n",
    "#print('spam')\n",
    "#print('spam')\n"
   ]
  },
  {
   "cell_type": "code",
   "execution_count": 10,
   "id": "2b38268e",
   "metadata": {},
   "outputs": [
    {
     "name": "stdout",
     "output_type": "stream",
     "text": [
      "Hello\n"
     ]
    }
   ],
   "source": [
    "# 8. Write code that prints Hello if 1 is stored in spam, prints Howdy if 2 is stored in spam, and prints Greetings! if anything\n",
    "# else is stored in spam.\n",
    "\n",
    "#Ans.\n",
    "spam = 1\n",
    "if spam == 1:\n",
    "    print('Hello')\n",
    "elif spam == 2:\n",
    "    print('Howdy')\n",
    "else:\n",
    "    print('Greetings!')"
   ]
  },
  {
   "cell_type": "code",
   "execution_count": 11,
   "id": "58f020b1",
   "metadata": {},
   "outputs": [],
   "source": [
    "# 9.If your programme is stuck in an endless loop, what keys you’ll press?\n",
    "\n",
    "#Ans. If your Python program is stuck in an endless loop and you are running it from the command line or terminal, you can press\n",
    "# Ctrl + C to interrupt the program.\n",
    "# 1. Run your Python script from the command line or terminal.\n",
    "# 2. If you notice that the program is stuck in an endless loop, press Ctrl + C."
   ]
  },
  {
   "cell_type": "code",
   "execution_count": 12,
   "id": "db384922",
   "metadata": {},
   "outputs": [],
   "source": [
    "# 10. How can you tell the difference between break and continue?\n",
    "\n",
    "# Ans. 1. break Statement: The break statement is used to exit the current loop prematurely, regardless of whether the loop\n",
    "# condition is still true or not.\n",
    "# When the break statement is encountered, the loop is terminated, and the program continues with the next statement after the\n",
    "# loop.\n",
    "# Example:for i in range(5):\n",
    "#    if i == 3:\n",
    "#       break\n",
    "#   print(i)\n",
    "#2. continue Statement:The continue statement is used to skip the rest of the code inside the loop for the current iteration and\n",
    "# move on to the next iteration. It does not terminate the loop; instead, it jumps to the next iteration.\n",
    "# Example: for i in range(5):\n",
    "#    if i == 2:\n",
    "#        continue\n",
    "#    print(i)\n",
    "\n",
    "# break is used to exit the entire loop prematurely.\n",
    "#continue is used to skip the rest of the code inside the loop for the current iteration and move on to the next iteration.\n",
    "\n",
    "\n",
    "\n",
    "\n",
    "\n"
   ]
  },
  {
   "cell_type": "code",
   "execution_count": 13,
   "id": "e5271c2e",
   "metadata": {},
   "outputs": [],
   "source": [
    "# 11. In a for loop, what is the difference between range(10), range(0, 10), and range(0, 10, 1)?\n",
    "\n",
    "# Ans. 1. range(10):\n",
    "# for i in range(10):\n",
    "#    print(i)\n",
    "\n",
    "# 2. range(0, 10):\n",
    "# for i in range(0, 10):\n",
    "#    print(i)\n",
    "\n",
    "#3.range(0, 10, 1):\n",
    "#for i in range(0, 10, 1):\n",
    "#    print(i)\n"
   ]
  },
  {
   "cell_type": "code",
   "execution_count": 14,
   "id": "033323a3",
   "metadata": {},
   "outputs": [
    {
     "name": "stdout",
     "output_type": "stream",
     "text": [
      "1\n",
      "2\n",
      "3\n",
      "4\n",
      "5\n",
      "6\n",
      "7\n",
      "8\n",
      "9\n",
      "10\n"
     ]
    }
   ],
   "source": [
    "# 12. Write a short program that prints the numbers 1 to 10 using a for loop. Then write an equivalent program that prints the\n",
    "# numbers 1 to 10 using a while loop.\n",
    "\n",
    "#Ans. \n",
    "for i in range(1, 11):\n",
    "    print(i)\n"
   ]
  },
  {
   "cell_type": "code",
   "execution_count": 17,
   "id": "917d71b4",
   "metadata": {},
   "outputs": [],
   "source": [
    "# 13. If you had a function named bacon() inside a module named spam, how would you call it after importing spam?\n",
    "\n",
    "#Ans. \n",
    "# import spam\n",
    "# spam.bacon()\n"
   ]
  },
  {
   "cell_type": "code",
   "execution_count": null,
   "id": "feaf0b3b",
   "metadata": {},
   "outputs": [],
   "source": []
  },
  {
   "cell_type": "code",
   "execution_count": null,
   "id": "eab79cb6",
   "metadata": {},
   "outputs": [],
   "source": []
  },
  {
   "cell_type": "code",
   "execution_count": null,
   "id": "3afce251",
   "metadata": {},
   "outputs": [],
   "source": []
  }
 ],
 "metadata": {
  "kernelspec": {
   "display_name": "Python 3",
   "language": "python",
   "name": "python3"
  },
  "language_info": {
   "codemirror_mode": {
    "name": "ipython",
    "version": 3
   },
   "file_extension": ".py",
   "mimetype": "text/x-python",
   "name": "python",
   "nbconvert_exporter": "python",
   "pygments_lexer": "ipython3",
   "version": "3.8.8"
  }
 },
 "nbformat": 4,
 "nbformat_minor": 5
}
