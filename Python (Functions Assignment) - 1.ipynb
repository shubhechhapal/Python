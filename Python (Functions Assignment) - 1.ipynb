{
 "cells": [
  {
   "cell_type": "code",
   "execution_count": 1,
   "id": "b7ef8a11",
   "metadata": {},
   "outputs": [],
   "source": [
    "# 1. In Python, what is the difference between a built-in function and a user-defined function? Provide an example of each.\n",
    "\n",
    "#Ans. 1. Built-in Function:\n",
    "# Built-in functions are functions that are included in the Python language by default. They are part of the Python standard\n",
    "# library, and you can use them without explicitly defining them.\n",
    "# Examples of built-in functions include print(), len(), max(), min(), etc.\n",
    "# 2. User-Defined Function:\n",
    "# User-defined functions are functions that are created by the user to perform a specific task. Users can define their own\n",
    "# functions using the def keyword.\n"
   ]
  },
  {
   "cell_type": "code",
   "execution_count": 2,
   "id": "5435f450",
   "metadata": {},
   "outputs": [],
   "source": [
    "# 2. How can you pass arguments to a function in Python? Explain the difference between positional arguments and keyword\n",
    "# arguments.\n",
    "\n",
    "#Ans. 1. Positional Arguments: Positional arguments are passed to a function based on their position or order in the function's\n",
    "# parameter list. The values passed during the function call are assigned to the parameters in the same order they appear in\n",
    "# the function definition.\n",
    "# 2. Keyword Arguments: Keyword arguments are passed to a function using the parameter names, explicitly specifying which value\n",
    "# corresponds to which parameter.\n",
    "#This allows you to pass arguments out of order, making the code more readable and self-explanatory.\n",
    "# Difference:\n",
    "# The key difference between positional and keyword arguments is in how the values are matched to the parameters:\n",
    "# Positional arguments rely on the order of the arguments in the function call.\n",
    "# Keyword arguments explicitly specify the parameter names along with their values."
   ]
  },
  {
   "cell_type": "code",
   "execution_count": 3,
   "id": "c2cd0654",
   "metadata": {},
   "outputs": [],
   "source": [
    "# 3. What is the purpose of the return statement in a function? Can a function have multiple return statements? Explain with an\n",
    "# example.\n",
    "\n",
    "# Ans. Multiple Return Statements: Yes, a function can have multiple return statements. However, when a function encounters the\n",
    "# first return statement, it immediately exits, and the subsequent code is not executed. This means that only one of the return\n",
    "# statements will be executed during a single function call."
   ]
  },
  {
   "cell_type": "code",
   "execution_count": 4,
   "id": "114c9d3a",
   "metadata": {},
   "outputs": [],
   "source": [
    "# 4. What are lambda functions in Python? How are they different from regular functions? Provide an example where a lambda\n",
    "# function can be useful.\n",
    "\n",
    "# Differences from Regular Functions:\n",
    "# Syntax: Lambda functions have a more compact syntax compared to regular functions.\n",
    "# Nameless: Lambda functions are anonymous; they don't have a name.\n",
    "# Limited Expressions: Lambda functions are restricted to a single expression."
   ]
  },
  {
   "cell_type": "code",
   "execution_count": 5,
   "id": "c105f6d8",
   "metadata": {},
   "outputs": [],
   "source": [
    "# 5. How does the concept of \"scope\" apply to functions in Python? Explain the difference between local scope and global scope.\n",
    "\n",
    "# 1. Local Scope:\n",
    "# Variables defined inside a function are said to have a local scope.\n",
    "# Local variables are only accessible within the function where they are defined.\n",
    "# They are created when the function is called and destroyed when the function exits.\n",
    "# 2. Global Scope:\n",
    "# Variables defined outside of any function or in the global scope are global variables.\n",
    "# Global variables are accessible from any part of the code, including functions.\n",
    "# They are created when the program starts and persist until the program terminates.\n",
    "# Difference:\n",
    "# The main difference between local and global scope is the region in which variables are accessible.\n",
    "# Local variables are only accessible within the function where they are defined.\n",
    "# Global variables can be accessed from any part of the code, including functions."
   ]
  },
  {
   "cell_type": "code",
   "execution_count": 6,
   "id": "9fb59af4",
   "metadata": {},
   "outputs": [],
   "source": [
    "# 6. How can you use the \"return\" statement in a Python function to return multiple values?\n",
    "\n",
    "# Ans. In Python, the return statement in a function can be used to return multiple values by separating them with commas. When\n",
    "#a function returns multiple values, they are usually returned as a tuple. The caller can then unpack the tuple to access\n",
    "# individual values."
   ]
  },
  {
   "cell_type": "code",
   "execution_count": 7,
   "id": "10e45721",
   "metadata": {},
   "outputs": [],
   "source": [
    "# 7. What is the difference between the \"pass by value\" and \"pass by reference\" concepts when it comes to function arguments in\n",
    "# Python?\n",
    "\n",
    "#Ans. Pass by Object Reference (or Assignment):\n",
    "# In Python, when you pass an argument to a function, you are actually passing a reference to the object, not the value itself.\n",
    "# This behavior leads to the concept of \"pass by object reference\" or \"pass by assignment.\"\n",
    "# 1. Immutable Objects (Pass by Object Reference):\n",
    "# Immutable objects like numbers, strings, and tuples are passed by object reference.\n",
    "# Changes made to the parameter inside the function do not affect the original object.\n",
    "# 2. Mutable Objects (Pass by Object Reference):\n",
    "# Mutable objects like lists and dictionaries are also passed by object reference.\n",
    "# Changes made to the object inside the function are reflected in the original object."
   ]
  },
  {
   "cell_type": "code",
   "execution_count": 8,
   "id": "5100f98b",
   "metadata": {},
   "outputs": [
    {
     "name": "stdout",
     "output_type": "stream",
     "text": [
      "Logarithmic function (log 4.0): 1.3862943611198906\n",
      "Exponential function (exp(4.0)): 54.598150033144236\n",
      "Power function with base 2 (2^4.0): 16.0\n",
      "Square root of 4.0: 2.0\n"
     ]
    }
   ],
   "source": [
    "# 8. Create a function that can intake integer or decimal value and do following operations:\n",
    "#a. Logarithmic function (log x)\n",
    "#b. Exponential function (exp(x))\n",
    "#c. Power function with base 2 (2x)\n",
    "#d. Square root\n",
    "\n",
    "#Ans. \n",
    "import math\n",
    "\n",
    "def mathematical_operations(x):\n",
    "    # Logarithmic function (log x)\n",
    "    log_result = math.log(x)\n",
    "\n",
    "    # Exponential function (exp(x))\n",
    "    exp_result = math.exp(x)\n",
    "\n",
    "    # Power function with base 2 (2^x)\n",
    "    power_result = 2 ** x\n",
    "\n",
    "    # Square root\n",
    "    sqrt_result = math.sqrt(x)\n",
    "\n",
    "    return log_result, exp_result, power_result, sqrt_result\n",
    "\n",
    "# Example usage:\n",
    "input_value = 4.0  # You can change this value to test different inputs\n",
    "results = mathematical_operations(input_value)\n",
    "\n",
    "print(f\"Logarithmic function (log {input_value}): {results[0]}\")\n",
    "print(f\"Exponential function (exp({input_value})): {results[1]}\")\n",
    "print(f\"Power function with base 2 (2^{input_value}): {results[2]}\")\n",
    "print(f\"Square root of {input_value}: {results[3]}\")\n"
   ]
  },
  {
   "cell_type": "code",
   "execution_count": 10,
   "id": "ea54a4f6",
   "metadata": {},
   "outputs": [
    {
     "name": "stdout",
     "output_type": "stream",
     "text": [
      "Full Name: Shubhechha Pal\n",
      "First Name: Shubhechha\n",
      "Last Name: Pal\n"
     ]
    }
   ],
   "source": [
    "# 9. Create a function that takes a full name as an argument and returns first name and last name.\n",
    "\n",
    "# Ans. \n",
    "def extract_first_last_name(full_name):\n",
    "    # Split the full name into first name and last name\n",
    "    names = full_name.split()\n",
    "\n",
    "    # Check if at least two names are provided\n",
    "    if len(names) >= 2:\n",
    "        first_name = names[0]\n",
    "        last_name = ' '.join(names[1:])\n",
    "        return first_name, last_name\n",
    "    else:\n",
    "        # If only one name is provided, consider it as the first name\n",
    "        return full_name, ''\n",
    "\n",
    "# Example usage:\n",
    "full_name_input = \"Shubhechha Pal\"  # You can change this value to test different inputs\n",
    "first_name_result, last_name_result = extract_first_last_name(full_name_input)\n",
    "\n",
    "print(f\"Full Name: {full_name_input}\")\n",
    "print(f\"First Name: {first_name_result}\")\n",
    "print(f\"Last Name: {last_name_result}\")\n"
   ]
  },
  {
   "cell_type": "code",
   "execution_count": null,
   "id": "29b71abf",
   "metadata": {},
   "outputs": [],
   "source": []
  }
 ],
 "metadata": {
  "kernelspec": {
   "display_name": "Python 3",
   "language": "python",
   "name": "python3"
  },
  "language_info": {
   "codemirror_mode": {
    "name": "ipython",
    "version": 3
   },
   "file_extension": ".py",
   "mimetype": "text/x-python",
   "name": "python",
   "nbconvert_exporter": "python",
   "pygments_lexer": "ipython3",
   "version": "3.8.8"
  }
 },
 "nbformat": 4,
 "nbformat_minor": 5
}
