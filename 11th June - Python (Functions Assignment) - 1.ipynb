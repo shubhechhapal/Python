{
 "cells": [
  {
   "cell_type": "code",
   "execution_count": 1,
   "id": "15964a5a",
   "metadata": {},
   "outputs": [],
   "source": [
    "# 1. What is a lambda function in Python, and how does it differ from a regular function?\n",
    "\n",
    "# Ans. The lambda keyword is used to define the lambda function.\n",
    "# arguments are the input parameters to the function.\n",
    "# expression is the single expression that the lambda function evaluates.\n",
    "# Differences:\n",
    "#Syntax: Lambda functions have a more compact syntax compared to regular functions.\n",
    "#Name:Lambda functions are anonymous; they do not have a name. They are typically used for short-term operations.\n",
    "#Use Cases:Lambda functions are often used for small, specific operations where a full function definition would be overly\n",
    "#verbose.\n",
    "#Return Statement: Lambda functions can only have a single expression, and the result of that expression is implicitly returned.\n",
    "#Regular functions can have multiple statements and explicit return statements.\n",
    "#Scope:Lambda functions are limited in scope, and they are usually used for simple tasks. Regular functions can have more\n",
    "# complex logic, multiple statements, and local variables."
   ]
  },
  {
   "cell_type": "code",
   "execution_count": 2,
   "id": "13cf482d",
   "metadata": {},
   "outputs": [],
   "source": [
    "#2. Can a lambda function in Python have multiple arguments? If yes, how can you define and use them?\n",
    "\n",
    "#Ans. # Lambda function with two arguments\n",
    "#add = lambda x, y: x + y\n",
    "\n",
    "# Using the lambda function\n",
    "#result = add(3, 5)\n",
    "#print(result)  # Output: 8\n"
   ]
  },
  {
   "cell_type": "code",
   "execution_count": 3,
   "id": "91f44960",
   "metadata": {},
   "outputs": [],
   "source": [
    "# 3. How are lambda functions typically used in Python? Provide an example use case.\n",
    "\n",
    "#Ans. Lambda functions in Python are typically used for short-term, simple operations where a full function definition would be\n",
    "# overly verbose. They are often employed in situations where a small, unnamed function is required for a short duration, such\n",
    "# as when passing a function as an argument to higher-order functions like map(), filter(), or sorted(). Lambda functions are\n",
    "#also commonly used in one-liner expressions where defining a regular function seems unnecessary."
   ]
  },
  {
   "cell_type": "code",
   "execution_count": 4,
   "id": "ed5373de",
   "metadata": {},
   "outputs": [],
   "source": [
    "# 4. What are the advantages and limitations of lambda functions compared to regular functions in Python?\n",
    "\n",
    "# Ans. Advantages of Lambda Functions:\n",
    "#Conciseness: Lambda functions provide a concise way to define small, anonymous functions in a single line. They are useful for\n",
    "#short-term, simple operations.\n",
    "#Readability: For certain operations like passing a function as an argument to higher-order functions (map(), filter(), etc.),\n",
    "#lambda functions can enhance readability by eliminating the need for a separate function definition.\n",
    "# No Need for Naming: Since lambda functions are anonymous, there's no need to come up with a name for the function when it's\n",
    "# only used in a specific context.\n",
    "#Use in Functional Programming: Lambda functions are particularly useful in functional programming paradigms where functions can\n",
    "# be treated as first-class citizens.\n",
    "# Limitations of Lambda Functions:\n",
    "#Single Expression: Lambda functions are limited to a single expression. If more complex logic or multiple statements are\n",
    "# required, a regular function with a full function definition is more suitable.\n",
    "#Limited Documentation: Lambda functions do not support docstrings, making it harder to provide detailed documentation for the\n",
    "# function's purpose and usage.\n",
    "# Limited Readability for Complex Operations: While lambda functions are beneficial for simple operations, they can reduce\n",
    "# readability for more complex tasks. Regular functions with a well-defined structure and name can make code more understandable.\n",
    "# Limited to Functional Programming Concepts: Lambda functions are designed for functional programming concepts and may not be\n",
    "# the best choice for all programming paradigms.\n",
    "# Less Versatility: Lambda functions are not as versatile as regular functions. Regular functions can include default arguments,\n",
    "#variable-length argument lists, and statements beyond the expression."
   ]
  },
  {
   "cell_type": "code",
   "execution_count": 5,
   "id": "e52ee73f",
   "metadata": {},
   "outputs": [
    {
     "name": "stdout",
     "output_type": "stream",
     "text": [
      "15\n"
     ]
    }
   ],
   "source": [
    "# 5. Are lambda functions in Python able to access variables defined outside of their own scope? Explain with an example.\n",
    "\n",
    "#Ans. Yes, lambda functions in Python can access variables defined outside of their own scope. However, the variables they\n",
    "#access are subject to the same scoping rules as regular functions. This means that they can access variables from the enclosing\n",
    "#scope (closure), but the value of those variables is determined when the lambda function is created.\n",
    "def outer_function(x):\n",
    "    # Define a lambda function inside the outer function\n",
    "    inner_lambda = lambda y: x + y\n",
    "    return inner_lambda\n",
    "\n",
    "# Create an instance of the lambda function\n",
    "my_lambda = outer_function(10)\n",
    "\n",
    "# Use the lambda function with an argument\n",
    "result = my_lambda(5)\n",
    "print(result)  # Output: 15\n"
   ]
  },
  {
   "cell_type": "code",
   "execution_count": 6,
   "id": "d68fee44",
   "metadata": {},
   "outputs": [
    {
     "name": "stdout",
     "output_type": "stream",
     "text": [
      "The square of 5 is: 25\n"
     ]
    }
   ],
   "source": [
    "# 6. Write a lambda function to calculate the square of a given number.\n",
    "\n",
    "#Ans. # Lambda function to calculate the square of a number\n",
    "square = lambda x: x ** 2\n",
    "\n",
    "# Example usage\n",
    "number = 5\n",
    "result = square(number)\n",
    "\n",
    "print(f\"The square of {number} is: {result}\")\n"
   ]
  },
  {
   "cell_type": "code",
   "execution_count": 7,
   "id": "3c6197d6",
   "metadata": {},
   "outputs": [
    {
     "name": "stdout",
     "output_type": "stream",
     "text": [
      "The maximum value in the list is: 14\n"
     ]
    }
   ],
   "source": [
    "# 7. Create a lambda function to find the maximum value in a list of integers.\n",
    "\n",
    "#Ans. \n",
    "# List of integers\n",
    "numbers = [4, 10, 6, 8, 2, 14, 7]\n",
    "\n",
    "# Lambda function to find the maximum value in a list\n",
    "find_max = lambda lst: max(lst)\n",
    "\n",
    "# Using the lambda function\n",
    "max_value = find_max(numbers)\n",
    "\n",
    "print(f\"The maximum value in the list is: {max_value}\")\n"
   ]
  },
  {
   "cell_type": "code",
   "execution_count": 8,
   "id": "463e00ab",
   "metadata": {},
   "outputs": [
    {
     "name": "stdout",
     "output_type": "stream",
     "text": [
      "The list after filtering out even numbers: [1, 3, 5, 7, 9]\n"
     ]
    }
   ],
   "source": [
    "# 8. Implement a lambda function to filter out all the even numbers from a list of integers.\n",
    "\n",
    "# Ans. # List of integers\n",
    "numbers = [1, 2, 3, 4, 5, 6, 7, 8, 9, 10]\n",
    "\n",
    "# Lambda function to filter out even numbers from a list\n",
    "filter_even = lambda lst: list(filter(lambda x: x % 2 != 0, lst))\n",
    "\n",
    "# Using the lambda function\n",
    "filtered_numbers = filter_even(numbers)\n",
    "\n",
    "print(f\"The list after filtering out even numbers: {filtered_numbers}\")\n"
   ]
  },
  {
   "cell_type": "code",
   "execution_count": 9,
   "id": "abbee6e0",
   "metadata": {},
   "outputs": [
    {
     "name": "stdout",
     "output_type": "stream",
     "text": [
      "The list of strings after sorting by length: ['kiwi', 'apple', 'grape', 'banana', 'orange']\n"
     ]
    }
   ],
   "source": [
    "#9. Write a lambda function to sort a list of strings in ascending order based on the length of each string.\n",
    "\n",
    "#Ans. # List of strings\n",
    "strings = [\"apple\", \"banana\", \"kiwi\", \"orange\", \"grape\"]\n",
    "\n",
    "# Lambda function to sort strings based on length\n",
    "sort_by_length = lambda lst: sorted(lst, key=lambda x: len(x))\n",
    "\n",
    "# Using the lambda function\n",
    "sorted_strings = sort_by_length(strings)\n",
    "\n",
    "print(f\"The list of strings after sorting by length: {sorted_strings}\")\n"
   ]
  },
  {
   "cell_type": "code",
   "execution_count": 10,
   "id": "6e0c6a2b",
   "metadata": {},
   "outputs": [
    {
     "name": "stdout",
     "output_type": "stream",
     "text": [
      "The common elements between the two lists are: [3, 4, 5]\n"
     ]
    }
   ],
   "source": [
    "# 10. Create a lambda function that takes two lists as input and returns a new list containing the common elements between the\n",
    "# two lists.\n",
    "\n",
    "#Ans. \n",
    "# Two lists\n",
    "list1 = [1, 2, 3, 4, 5]\n",
    "list2 = [3, 4, 5, 6, 7]\n",
    "\n",
    "# Lambda function to find common elements between two lists\n",
    "find_common_elements = lambda lst1, lst2: list(filter(lambda x: x in lst1, lst2))\n",
    "\n",
    "# Using the lambda function\n",
    "common_elements = find_common_elements(list1, list2)\n",
    "\n",
    "print(f\"The common elements between the two lists are: {common_elements}\")\n"
   ]
  },
  {
   "cell_type": "code",
   "execution_count": 11,
   "id": "10de1f40",
   "metadata": {},
   "outputs": [
    {
     "name": "stdout",
     "output_type": "stream",
     "text": [
      "The factorial of 5 is: 120\n"
     ]
    }
   ],
   "source": [
    "# 11. Write a recursive function to calculate the factorial of a given positive integer.\n",
    "\n",
    "#Ans. \n",
    "def factorial(n):\n",
    "    # Base case: factorial of 0 or 1 is 1\n",
    "    if n == 0 or n == 1:\n",
    "        return 1\n",
    "    # Recursive case: n! = n * (n-1)!\n",
    "    else:\n",
    "        return n * factorial(n - 1)\n",
    "\n",
    "# Example usage:\n",
    "number = 5\n",
    "result = factorial(number)\n",
    "\n",
    "print(f\"The factorial of {number} is: {result}\")\n"
   ]
  },
  {
   "cell_type": "code",
   "execution_count": 12,
   "id": "05e36e47",
   "metadata": {},
   "outputs": [
    {
     "name": "stdout",
     "output_type": "stream",
     "text": [
      "The 6-th Fibonacci number is: 8\n"
     ]
    }
   ],
   "source": [
    "# 12. Implement a recursive function to compute the nth Fibonacci number.\n",
    "\n",
    "#Ans. \n",
    "def fibonacci(n):\n",
    "    # Base cases: Fibonacci of 0 is 0, Fibonacci of 1 is 1\n",
    "    if n == 0:\n",
    "        return 0\n",
    "    elif n == 1:\n",
    "        return 1\n",
    "    # Recursive case: Fibonacci(n) = Fibonacci(n-1) + Fibonacci(n-2)\n",
    "    else:\n",
    "        return fibonacci(n - 1) + fibonacci(n - 2)\n",
    "\n",
    "# Example usage:\n",
    "n = 6\n",
    "result = fibonacci(n)\n",
    "\n",
    "print(f\"The {n}-th Fibonacci number is: {result}\")\n"
   ]
  },
  {
   "cell_type": "code",
   "execution_count": 13,
   "id": "c7287e37",
   "metadata": {},
   "outputs": [
    {
     "name": "stdout",
     "output_type": "stream",
     "text": [
      "The sum of the elements in the list is: 15\n"
     ]
    }
   ],
   "source": [
    "# 13. Create a recursive function to find the sum of all the elements in a given list.\n",
    "\n",
    "#Ans. \n",
    "def recursive_sum(lst):\n",
    "    # Base case: an empty list has a sum of 0\n",
    "    if not lst:\n",
    "        return 0\n",
    "    # Recursive case: sum of the first element and the sum of the rest of the elements\n",
    "    else:\n",
    "        return lst[0] + recursive_sum(lst[1:])\n",
    "\n",
    "# Example usage:\n",
    "my_list = [1, 2, 3, 4, 5]\n",
    "result = recursive_sum(my_list)\n",
    "\n",
    "print(f\"The sum of the elements in the list is: {result}\")\n"
   ]
  },
  {
   "cell_type": "code",
   "execution_count": 14,
   "id": "3a806074",
   "metadata": {},
   "outputs": [
    {
     "name": "stdout",
     "output_type": "stream",
     "text": [
      "The string 'radar' is a palindrome.\n"
     ]
    }
   ],
   "source": [
    "# 14. Write a recursive function to determine whether a given string is a palindrome.\n",
    "\n",
    "#Ans. \n",
    "def is_palindrome(s):\n",
    "    # Base case: an empty string or a string with one character is a palindrome\n",
    "    if len(s) == 0 or len(s) == 1:\n",
    "        return True\n",
    "    # Recursive case: compare the first and last characters, then check the rest of the string\n",
    "    else:\n",
    "        return s[0] == s[-1] and is_palindrome(s[1:-1])\n",
    "\n",
    "# Example usage:\n",
    "my_string = \"radar\"\n",
    "result = is_palindrome(my_string)\n",
    "\n",
    "if result:\n",
    "    print(f\"The string '{my_string}' is a palindrome.\")\n",
    "else:\n",
    "    print(f\"The string '{my_string}' is not a palindrome.\")\n"
   ]
  },
  {
   "cell_type": "code",
   "execution_count": 15,
   "id": "97bab8b5",
   "metadata": {},
   "outputs": [
    {
     "name": "stdout",
     "output_type": "stream",
     "text": [
      "The GCD of 48 and 18 is: 6\n"
     ]
    }
   ],
   "source": [
    "# 15. Implement a recursive function to find the greatest common divisor (GCD) of two positive integers.\n",
    "\n",
    "# Ans. \n",
    "def gcd(a, b):\n",
    "    # Base case: GCD(a, 0) = a, GCD(0, b) = b\n",
    "    if b == 0:\n",
    "        return a\n",
    "    # Recursive case: GCD(a, b) = GCD(b, a % b)\n",
    "    else:\n",
    "        return gcd(b, a % b)\n",
    "\n",
    "# Example usage:\n",
    "num1 = 48\n",
    "num2 = 18\n",
    "result = gcd(num1, num2)\n",
    "\n",
    "print(f\"The GCD of {num1} and {num2} is: {result}\")\n"
   ]
  },
  {
   "cell_type": "code",
   "execution_count": null,
   "id": "4e4fbfb2",
   "metadata": {},
   "outputs": [],
   "source": []
  }
 ],
 "metadata": {
  "kernelspec": {
   "display_name": "Python 3",
   "language": "python",
   "name": "python3"
  },
  "language_info": {
   "codemirror_mode": {
    "name": "ipython",
    "version": 3
   },
   "file_extension": ".py",
   "mimetype": "text/x-python",
   "name": "python",
   "nbconvert_exporter": "python",
   "pygments_lexer": "ipython3",
   "version": "3.8.8"
  }
 },
 "nbformat": 4,
 "nbformat_minor": 5
}
