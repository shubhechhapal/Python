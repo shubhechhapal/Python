{
 "cells": [
  {
   "cell_type": "code",
   "execution_count": 1,
   "id": "dc6dbb60",
   "metadata": {},
   "outputs": [],
   "source": [
    "# 1. What does an empty dictionary's code look like?\n",
    "\n",
    "#Ans. empty_dict = {}\n"
   ]
  },
  {
   "cell_type": "code",
   "execution_count": 2,
   "id": "d23d5e03",
   "metadata": {},
   "outputs": [],
   "source": [
    "# 2. What is the value of a dictionary value with the key ''foo' and the value 42?\n",
    "\n",
    "# Ans. my_dict = {'foo': 42}\n",
    "#value_of_foo = my_dict['foo']\n",
    "# print(value_of_foo)\n"
   ]
  },
  {
   "cell_type": "code",
   "execution_count": 3,
   "id": "5417591f",
   "metadata": {},
   "outputs": [],
   "source": [
    "# 3. What is the most significant distinction between a dictionary and a list?\n",
    "\n",
    "# Key-Value Pairing:\n",
    "#1.Dictionary: Organizes data into key-value pairs. Each element in a dictionary is a key-value pair, where each key must be\n",
    "# unique.\n",
    "#List: Organizes data as an ordered sequence of elements. Each element in a list has an index, and the order of elements is\n",
    "# maintained.\n",
    "\n",
    "#2. Accessing Elements:\n",
    "#Dictionary: Elements are accessed by their keys. You use the key to look up the corresponding value.\n",
    "# List: Elements are accessed by their index. You use the index to retrieve the element at that position.\n",
    "\n",
    "# Ordering:\n",
    "# Dictionary: The order of items in a dictionary is not guaranteed. As of Python 3.7+, insertion order is maintained, but this\n",
    "# is an implementation detail and not something to rely on.\n",
    "# List: The order of elements in a list is guaranteed and maintained.\n",
    "\n",
    "#Mutability:\n",
    "# Dictionary: Dictionaries are mutable, meaning you can add, modify, or remove key-value pairs after the dictionary is created.\n",
    "# List: Lists are also mutable; you can change the elements (values) in a list or modify its length."
   ]
  },
  {
   "cell_type": "code",
   "execution_count": 4,
   "id": "89fa6f7e",
   "metadata": {},
   "outputs": [],
   "source": [
    "# 4. What happens if you try to access spam['foo'] if spam is {'bar': 100}?\n",
    "\n",
    "#Ans. If you try to access spam['foo'] and spam is the dictionary { 'bar': 100 } in Python, it will raise a KeyError. This is\n",
    "# because the key 'foo' does not exist in the dictionary, and attempting to access a non-existent key will result in an error."
   ]
  },
  {
   "cell_type": "code",
   "execution_count": 5,
   "id": "d35561df",
   "metadata": {},
   "outputs": [],
   "source": [
    "# 5. If a dictionary is stored in spam, what is the difference between the expressions 'cat' in spam and 'cat' in spam.keys()?\n",
    "\n",
    "#Ans. 1.'cat' in spam:\n",
    "# This checks if the key 'cat' is present in the dictionary spam.\n",
    "# It is equivalent to checking if the key is among the keys of the dictionary.\n",
    "#2.'cat' in spam.keys():\n",
    "# This explicitly checks if the key 'cat' is present in the list of keys obtained using spam.keys().\n",
    "# While it achieves the same result, it is considered less Pythonic and less efficient than using 'cat' in spam."
   ]
  },
  {
   "cell_type": "code",
   "execution_count": 6,
   "id": "0dd29ed0",
   "metadata": {},
   "outputs": [],
   "source": [
    "# 6. If a dictionary is stored in spam, what is the difference between the expressions &#39;cat&#39; in spam and 'cat' in spam.\n",
    "# values()?\n",
    "\n",
    "# Ans. 1.'cat' in spam:\n",
    "#This checks if the key 'cat' is present in the dictionary spam.\n",
    "# It looks for the key in the keys of the dictionary, not in the values.\n",
    "#'cat' in spam.values():\n",
    "# This checks if the value 'cat' is present in any of the values in the dictionary spam.\n",
    "# It iterates through the values of the dictionary and checks if the specified value is among them."
   ]
  },
  {
   "cell_type": "code",
   "execution_count": 7,
   "id": "3b27bd23",
   "metadata": {},
   "outputs": [],
   "source": [
    "# 7. What is a shortcut for the following code?\n",
    "# if 'color' not in spam:\n",
    "# spam['color\"] = 'black'\n",
    "\n",
    "# Ans. You can use the setdefault method as a shortcut for the given code. The setdefault method checks if a key is present in\n",
    "# the dictionary. If the key is present, it returns the corresponding value. If the key is not present, it sets the key to a\n",
    "# default value and returns that value."
   ]
  },
  {
   "cell_type": "code",
   "execution_count": 8,
   "id": "35cb32d4",
   "metadata": {},
   "outputs": [],
   "source": [
    "# 8. How do you \"pretty print\" dictionary values using which module and function?\n",
    "\n",
    "# Ans. To \"pretty print\" dictionary values in Python, you can use the pprint module from the pprint (pretty-print) standard\n",
    "# library. The pprint module provides a pprint function that formats complex data structures, including dictionaries, in a more\n",
    "# readable and aesthetically pleasing way."
   ]
  },
  {
   "cell_type": "code",
   "execution_count": null,
   "id": "9575cead",
   "metadata": {},
   "outputs": [],
   "source": []
  }
 ],
 "metadata": {
  "kernelspec": {
   "display_name": "Python 3",
   "language": "python",
   "name": "python3"
  },
  "language_info": {
   "codemirror_mode": {
    "name": "ipython",
    "version": 3
   },
   "file_extension": ".py",
   "mimetype": "text/x-python",
   "name": "python",
   "nbconvert_exporter": "python",
   "pygments_lexer": "ipython3",
   "version": "3.8.8"
  }
 },
 "nbformat": 4,
 "nbformat_minor": 5
}
