{
 "cells": [
  {
   "cell_type": "code",
   "execution_count": 1,
   "id": "6170ca8c",
   "metadata": {},
   "outputs": [
    {
     "name": "stdout",
     "output_type": "stream",
     "text": [
      "First variable is 10 & second variable is 5.\n",
      "Addition: 10 + 5 = 15\n",
      "Subtraction: 10 - 5 = 5\n",
      "Multiplication: 10 * 5 = 50\n",
      "Division: 10 / 5 = 2.0\n"
     ]
    }
   ],
   "source": [
    "# Q.1. Create two int type variables, apply addition, subtraction, division and multiplications and store the results in\n",
    "# variables. Then print the data in the following format by calling the variables:\n",
    "# First variable is __ & second variable is __.\n",
    "# Addition: __ + __ = __\n",
    "# Subtraction: __ - __ = __\n",
    "# Multiplication: __ * __ = __\n",
    "# Division: __ / __ = __\n",
    "\n",
    "# Ans.\n",
    "# Create two int type variables\n",
    "first_variable = 10\n",
    "second_variable = 5\n",
    "\n",
    "# Perform arithmetic operations\n",
    "addition_result = first_variable + second_variable\n",
    "subtraction_result = first_variable - second_variable\n",
    "multiplication_result = first_variable * second_variable\n",
    "division_result = first_variable / second_variable\n",
    "\n",
    "# Print the results in the specified format\n",
    "print(f\"First variable is {first_variable} & second variable is {second_variable}.\")\n",
    "print(f\"Addition: {first_variable} + {second_variable} = {addition_result}\")\n",
    "print(f\"Subtraction: {first_variable} - {second_variable} = {subtraction_result}\")\n",
    "print(f\"Multiplication: {first_variable} * {second_variable} = {multiplication_result}\")\n",
    "print(f\"Division: {first_variable} / {second_variable} = {division_result}\")\n"
   ]
  },
  {
   "cell_type": "code",
   "execution_count": 2,
   "id": "29118ea3",
   "metadata": {},
   "outputs": [],
   "source": [
    "# Q.2. What is the difference between the following operators:\n",
    "# (i) ‘/’ & ‘//’\n",
    "# (ii) ‘**’ & ‘^’\n",
    "\n",
    "#Ans. '/' is the division operator in Python. It performs floating-point division, which means it returns a floating-point\n",
    "# result even if the dividend and divisor are integers. For example, 5 / 2 will result in 2.5.\n",
    "# '//' is the floor division operator. It returns the floor value of the division, i.e., the result is rounded down to the\n",
    "# nearest integer. For example, 5 // 2 will result in 2.\n",
    "\n",
    "# (ii) Difference between '**' and '^':\n",
    "# '**' is the exponentiation operator in Python. It is used for raising a number to the power of another number. For example,\n",
    "# 2 ** 3 results in 8.\n",
    "# '^' is not the exponentiation operator in Python; it is the bitwise XOR operator. It performs bitwise XOR operation on the\n",
    "# binary representations of two numbers. For exponentiation, you should use '**' instead of '^'."
   ]
  },
  {
   "cell_type": "code",
   "execution_count": 3,
   "id": "7bc6427e",
   "metadata": {},
   "outputs": [],
   "source": [
    "# Q.3. List the logical operators.\n",
    "\n",
    "#1. and: Returns True if both operands are True.\n",
    "# True and True\n",
    "#2. or: Returns True if at least one of the operands is True.\n",
    "# True or False\n",
    "# not: Returns True if the operand is False, and False if the operand is True.\n",
    "# not True  "
   ]
  },
  {
   "cell_type": "code",
   "execution_count": 4,
   "id": "674cd78c",
   "metadata": {},
   "outputs": [],
   "source": [
    "# Q.4. Explain right shift operator and left shift operator with examples.\n",
    "\n",
    "# Ans. Right Shift Operator (>>):\n",
    "#The right shift operator shifts the bits of a binary number to the right by a specified number of positions. The vacant\n",
    "# positions on the left are filled with the sign bit (the leftmost bit, which indicates the sign of the number - 0 for positive,\n",
    "# 1 for negative).\n",
    "# Syntax: x >> y, where x is the value to be shifted, and y is the number of positions to shift.\n",
    "# Example:result = 8 >> 2  \n",
    "#print(result)\n",
    "# Left Shift Operator (<<):\n",
    "# The left shift operator shifts the bits of a binary number to the left by a specified number of positions. The vacant\n",
    "# positions on the right are filled with zeros.\n",
    "#Syntax: x << y, where x is the value to be shifted, and y is the number of positions to shift.\n",
    "#Example: result = 2 << 2 \n",
    "#print(result)"
   ]
  },
  {
   "cell_type": "code",
   "execution_count": 5,
   "id": "d2656ade",
   "metadata": {},
   "outputs": [
    {
     "name": "stdout",
     "output_type": "stream",
     "text": [
      "10 is present in the list.\n"
     ]
    }
   ],
   "source": [
    "# Q.5. Create a list containing int type data of length 15. Then write a code to check if 10 is present in the list or not.\n",
    "\n",
    "#Ans.\n",
    "my_list = [2, 5, 8, 10, 15, 20, 25, 30, 35, 40, 45, 50, 55, 60, 65]\n",
    "\n",
    "# Check if 10 is present in the list\n",
    "if 10 in my_list:\n",
    "    print(\"10 is present in the list.\")\n",
    "else:\n",
    "    print(\"10 is not present in the list.\")\n"
   ]
  },
  {
   "cell_type": "code",
   "execution_count": null,
   "id": "197b1066",
   "metadata": {},
   "outputs": [],
   "source": []
  }
 ],
 "metadata": {
  "kernelspec": {
   "display_name": "Python 3",
   "language": "python",
   "name": "python3"
  },
  "language_info": {
   "codemirror_mode": {
    "name": "ipython",
    "version": 3
   },
   "file_extension": ".py",
   "mimetype": "text/x-python",
   "name": "python",
   "nbconvert_exporter": "python",
   "pygments_lexer": "ipython3",
   "version": "3.8.8"
  }
 },
 "nbformat": 4,
 "nbformat_minor": 5
}
